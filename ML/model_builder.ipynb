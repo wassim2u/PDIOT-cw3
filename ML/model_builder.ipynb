{
 "cells": [
  {
   "cell_type": "markdown",
   "metadata": {
    "collapsed": true
   },
   "source": [
    "# Introduction to Human Activity Recognition"
   ]
  },
  {
   "cell_type": "markdown",
   "metadata": {},
   "source": [
    "Here we will explore some common ways of preprocessing human activity recognition data.\n",
    "\n",
    "Using the example data we will learn:\n",
    "* how to merge multiple files into one large DataFrame\n",
    "* how to split data into sliding windows\n",
    "* how to quickly extract features from a window\n",
    "* how to set the number of classes considered for classification\n",
    "* how to build a simple Random Forest Classifier and train it on HAR data\n",
    "* how to build a simple CNN and train it on HAR data \n",
    "\n",
    "Bear in mind that the sample data offered is not cleaned or high quality. You should not use it in your own experiments but it is useful for this tutorial.\n",
    "\n",
    "You will need the following packages: \n",
    "* tsfresh\n",
    "* scikit-learn\n",
    "* tensorflow"
   ]
  },
  {
   "cell_type": "markdown",
   "metadata": {},
   "source": [
    "## Current Model Note for cw3 "
   ]
  },
  {
   "cell_type": "markdown",
   "metadata": {},
   "source": [
    "#### Basic imports"
   ]
  },
  {
   "cell_type": "code",
   "execution_count": 1,
   "metadata": {},
   "outputs": [],
   "source": [
    "import pandas as pd\n",
    "import numpy as np\n",
    "import tsfresh\n",
    "from sklearn.model_selection import train_test_split\n",
    "from sklearn.ensemble import RandomForestClassifier\n",
    "from sklearn.metrics import classification_report\n",
    "import tensorflow as tf\n",
    "\n",
    "import os\n",
    "\n",
    "import matplotlib.pyplot as plt\n",
    "\n",
    "# keras goodies\n",
    "from tensorflow.keras.models import Sequential\n",
    "from tensorflow.keras.layers import Dense, Activation, Flatten, Conv1D, Dropout, MaxPooling1D, BatchNormalization, LSTM\n",
    "from tensorflow.keras import optimizers\n",
    "from tensorflow.keras import regularizers\n",
    "from tensorflow.keras import metrics as kmetrics\n",
    "import tensorflow.keras.backend as K"
   ]
  },
  {
   "cell_type": "markdown",
   "metadata": {},
   "source": [
    "## Loading multiple files into one large DataFrame"
   ]
  },
  {
   "cell_type": "markdown",
   "metadata": {},
   "source": [
    "At this stage you should only be working with clean data, saved in the format required for Coursework 1. An example of such data can be found in the Data/Clean/ folder."
   ]
  },
  {
   "cell_type": "code",
   "execution_count": 328,
   "metadata": {
    "scrolled": true
   },
   "outputs": [
    {
     "name": "stdout",
     "output_type": "stream",
     "text": [
      "s1870467\n",
      "s1870697\n",
      "s2171931\n",
      "s2254050\n",
      "s1727780\n",
      "s2125423\n",
      ".DS_Store\n",
      ".DS_Store  is not a folder\n",
      "s1757177\n",
      "s1702583\n",
      "s1824891\n",
      "Respeck_recordings_clean.csv\n",
      "Respeck_recordings_clean.csv  is not a folder\n",
      "s1826390\n",
      "s1865890\n",
      "s1823274\n",
      "s1865457\n",
      "s1800883\n",
      "s1718069\n",
      "s1706154\n",
      "s1864705\n",
      "s1817455\n",
      "Thingy_recordings_clean.csv\n",
      "Thingy_recordings_clean.csv  is not a folder\n",
      "s2211162\n",
      "s1761322\n",
      "s1970333\n",
      "s2192970\n",
      "s2181154\n",
      "s1711661\n",
      "s2250677\n",
      "s1893474\n",
      "s2119637\n",
      "s1721256\n",
      "s1704145\n",
      "s1894401\n",
      "s1541031\n",
      "s1843072\n",
      "s1893835\n",
      "README.md\n",
      "README.md  is not a folder\n",
      "s2173036\n",
      "s2212045\n",
      "s1813106\n",
      "s1891214\n",
      "s1724279\n",
      "s1822958\n",
      "s1841064\n",
      "s2171825\n",
      "s1714206\n",
      "s1801931\n",
      "s1842093\n",
      "s1724067\n",
      "s1732873\n",
      "s1817972\n",
      "s1850642\n",
      "s2211228\n"
     ]
    }
   ],
   "source": [
    "# DEPRECATED: New clean file was generated, which we will be used from now on\n",
    "# base_df_old = pd.DataFrame()\n",
    "\n",
    "# clean_data_folder = \"../pdiot-data/2021\"\n",
    "\n",
    "# for sUNN_folder in os.listdir(clean_data_folder):\n",
    "#     print(sUNN_folder)\n",
    "#     try:\n",
    "#         for filename in os.listdir(clean_data_folder+\"/\"+sUNN_folder):\n",
    "            \n",
    "#             full_path = f\"{clean_data_folder}/{sUNN_folder}/{filename}\"\n",
    "# #             print(full_path)\n",
    "\n",
    "#             # load data into a DataFrame\n",
    "#             new_df = pd.read_csv(full_path)\n",
    "\n",
    "#             # merge into the base DataFrame\n",
    "#             base_df_old = pd.concat([base_df, new_df])\n",
    "#     except:\n",
    "#         print(sUNN_folder, \" is not a folder\")\n"
   ]
  },
  {
   "cell_type": "code",
   "execution_count": 330,
   "metadata": {},
   "outputs": [],
   "source": [
    "base_df = base_df_old"
   ]
  },
  {
   "cell_type": "code",
   "execution_count": 345,
   "metadata": {},
   "outputs": [
    {
     "name": "stderr",
     "output_type": "stream",
     "text": [
      "/Users/Wassim/miniconda3/envs/pdiot/lib/python3.7/site-packages/IPython/core/interactiveshell.py:3441: DtypeWarning: Columns (11) have mixed types.Specify dtype option on import or set low_memory=False.\n",
      "  exec(code_obj, self.user_global_ns, self.user_ns)\n"
     ]
    }
   ],
   "source": [
    "#Load Clean Respeck Recording to base_df\n",
    "clean_data_folder = \"../pdiot-data/2021/Respeck_recordings_clean.csv\"\n",
    "base_df = pd.read_csv(clean_data_folder)"
   ]
  },
  {
   "cell_type": "code",
   "execution_count": 346,
   "metadata": {},
   "outputs": [
    {
     "data": {
      "text/html": [
       "<div>\n",
       "<style scoped>\n",
       "    .dataframe tbody tr th:only-of-type {\n",
       "        vertical-align: middle;\n",
       "    }\n",
       "\n",
       "    .dataframe tbody tr th {\n",
       "        vertical-align: top;\n",
       "    }\n",
       "\n",
       "    .dataframe thead th {\n",
       "        text-align: right;\n",
       "    }\n",
       "</style>\n",
       "<table border=\"1\" class=\"dataframe\">\n",
       "  <thead>\n",
       "    <tr style=\"text-align: right;\">\n",
       "      <th></th>\n",
       "      <th>timestamp</th>\n",
       "      <th>accel_x</th>\n",
       "      <th>accel_y</th>\n",
       "      <th>accel_z</th>\n",
       "      <th>gyro_x</th>\n",
       "      <th>gyro_y</th>\n",
       "      <th>gyro_z</th>\n",
       "      <th>sensor_type</th>\n",
       "      <th>activity_type</th>\n",
       "      <th>activity_code</th>\n",
       "      <th>subject_id</th>\n",
       "      <th>notes</th>\n",
       "      <th>recording_id</th>\n",
       "    </tr>\n",
       "  </thead>\n",
       "  <tbody>\n",
       "    <tr>\n",
       "      <th>0</th>\n",
       "      <td>1.633516e+12</td>\n",
       "      <td>0.261475</td>\n",
       "      <td>-1.116516</td>\n",
       "      <td>-0.502991</td>\n",
       "      <td>-0.812500</td>\n",
       "      <td>12.312500</td>\n",
       "      <td>19.500000</td>\n",
       "      <td>Respeck</td>\n",
       "      <td>Climbing stairs</td>\n",
       "      <td>12.0</td>\n",
       "      <td>s1870467</td>\n",
       "      <td>rob</td>\n",
       "      <td>Respeck_s1870467_Climbing stairs_06-10-2021_11...</td>\n",
       "    </tr>\n",
       "    <tr>\n",
       "      <th>1</th>\n",
       "      <td>1.633516e+12</td>\n",
       "      <td>-0.177734</td>\n",
       "      <td>-0.636292</td>\n",
       "      <td>-0.477600</td>\n",
       "      <td>-5.265625</td>\n",
       "      <td>2.953125</td>\n",
       "      <td>-9.281250</td>\n",
       "      <td>Respeck</td>\n",
       "      <td>Climbing stairs</td>\n",
       "      <td>12.0</td>\n",
       "      <td>s1870467</td>\n",
       "      <td>rob</td>\n",
       "      <td>Respeck_s1870467_Climbing stairs_06-10-2021_11...</td>\n",
       "    </tr>\n",
       "    <tr>\n",
       "      <th>2</th>\n",
       "      <td>1.633516e+12</td>\n",
       "      <td>0.351562</td>\n",
       "      <td>-0.879456</td>\n",
       "      <td>-0.335754</td>\n",
       "      <td>5.671875</td>\n",
       "      <td>24.656250</td>\n",
       "      <td>-10.562500</td>\n",
       "      <td>Respeck</td>\n",
       "      <td>Climbing stairs</td>\n",
       "      <td>12.0</td>\n",
       "      <td>s1870467</td>\n",
       "      <td>rob</td>\n",
       "      <td>Respeck_s1870467_Climbing stairs_06-10-2021_11...</td>\n",
       "    </tr>\n",
       "    <tr>\n",
       "      <th>3</th>\n",
       "      <td>1.633516e+12</td>\n",
       "      <td>0.298584</td>\n",
       "      <td>-1.253479</td>\n",
       "      <td>-0.299622</td>\n",
       "      <td>-3.609375</td>\n",
       "      <td>2.687500</td>\n",
       "      <td>5.890625</td>\n",
       "      <td>Respeck</td>\n",
       "      <td>Climbing stairs</td>\n",
       "      <td>12.0</td>\n",
       "      <td>s1870467</td>\n",
       "      <td>rob</td>\n",
       "      <td>Respeck_s1870467_Climbing stairs_06-10-2021_11...</td>\n",
       "    </tr>\n",
       "    <tr>\n",
       "      <th>4</th>\n",
       "      <td>1.633516e+12</td>\n",
       "      <td>0.056152</td>\n",
       "      <td>-0.777405</td>\n",
       "      <td>-0.210754</td>\n",
       "      <td>-14.328125</td>\n",
       "      <td>5.421875</td>\n",
       "      <td>8.140625</td>\n",
       "      <td>Respeck</td>\n",
       "      <td>Climbing stairs</td>\n",
       "      <td>12.0</td>\n",
       "      <td>s1870467</td>\n",
       "      <td>rob</td>\n",
       "      <td>Respeck_s1870467_Climbing stairs_06-10-2021_11...</td>\n",
       "    </tr>\n",
       "    <tr>\n",
       "      <th>...</th>\n",
       "      <td>...</td>\n",
       "      <td>...</td>\n",
       "      <td>...</td>\n",
       "      <td>...</td>\n",
       "      <td>...</td>\n",
       "      <td>...</td>\n",
       "      <td>...</td>\n",
       "      <td>...</td>\n",
       "      <td>...</td>\n",
       "      <td>...</td>\n",
       "      <td>...</td>\n",
       "      <td>...</td>\n",
       "      <td>...</td>\n",
       "    </tr>\n",
       "    <tr>\n",
       "      <th>492671</th>\n",
       "      <td>1.632930e+12</td>\n",
       "      <td>-0.376465</td>\n",
       "      <td>-0.746399</td>\n",
       "      <td>0.693543</td>\n",
       "      <td>-0.171875</td>\n",
       "      <td>-0.953125</td>\n",
       "      <td>1.281250</td>\n",
       "      <td>Respeck</td>\n",
       "      <td>Sitting bent backward</td>\n",
       "      <td>5.0</td>\n",
       "      <td>s2211228</td>\n",
       "      <td>NaN</td>\n",
       "      <td>Respeck_s2211228_Sitting bent backward_29-09-2...</td>\n",
       "    </tr>\n",
       "    <tr>\n",
       "      <th>492672</th>\n",
       "      <td>1.632930e+12</td>\n",
       "      <td>-0.345703</td>\n",
       "      <td>-0.749329</td>\n",
       "      <td>0.677429</td>\n",
       "      <td>-0.671875</td>\n",
       "      <td>-0.187500</td>\n",
       "      <td>-1.015625</td>\n",
       "      <td>Respeck</td>\n",
       "      <td>Sitting bent backward</td>\n",
       "      <td>5.0</td>\n",
       "      <td>s2211228</td>\n",
       "      <td>NaN</td>\n",
       "      <td>Respeck_s2211228_Sitting bent backward_29-09-2...</td>\n",
       "    </tr>\n",
       "    <tr>\n",
       "      <th>492673</th>\n",
       "      <td>1.632930e+12</td>\n",
       "      <td>-0.368408</td>\n",
       "      <td>-0.745422</td>\n",
       "      <td>0.690857</td>\n",
       "      <td>-0.218750</td>\n",
       "      <td>-0.640625</td>\n",
       "      <td>0.375000</td>\n",
       "      <td>Respeck</td>\n",
       "      <td>Sitting bent backward</td>\n",
       "      <td>5.0</td>\n",
       "      <td>s2211228</td>\n",
       "      <td>NaN</td>\n",
       "      <td>Respeck_s2211228_Sitting bent backward_29-09-2...</td>\n",
       "    </tr>\n",
       "    <tr>\n",
       "      <th>492674</th>\n",
       "      <td>1.632930e+12</td>\n",
       "      <td>-0.363281</td>\n",
       "      <td>-0.747375</td>\n",
       "      <td>0.689148</td>\n",
       "      <td>0.078125</td>\n",
       "      <td>0.796875</td>\n",
       "      <td>-0.046875</td>\n",
       "      <td>Respeck</td>\n",
       "      <td>Sitting bent backward</td>\n",
       "      <td>5.0</td>\n",
       "      <td>s2211228</td>\n",
       "      <td>NaN</td>\n",
       "      <td>Respeck_s2211228_Sitting bent backward_29-09-2...</td>\n",
       "    </tr>\n",
       "    <tr>\n",
       "      <th>492675</th>\n",
       "      <td>1.632930e+12</td>\n",
       "      <td>-0.369873</td>\n",
       "      <td>-0.734436</td>\n",
       "      <td>0.684753</td>\n",
       "      <td>-0.140625</td>\n",
       "      <td>-0.531250</td>\n",
       "      <td>0.687500</td>\n",
       "      <td>Respeck</td>\n",
       "      <td>Sitting bent backward</td>\n",
       "      <td>5.0</td>\n",
       "      <td>s2211228</td>\n",
       "      <td>NaN</td>\n",
       "      <td>Respeck_s2211228_Sitting bent backward_29-09-2...</td>\n",
       "    </tr>\n",
       "  </tbody>\n",
       "</table>\n",
       "<p>492676 rows × 13 columns</p>\n",
       "</div>"
      ],
      "text/plain": [
       "           timestamp   accel_x   accel_y   accel_z     gyro_x     gyro_y  \\\n",
       "0       1.633516e+12  0.261475 -1.116516 -0.502991  -0.812500  12.312500   \n",
       "1       1.633516e+12 -0.177734 -0.636292 -0.477600  -5.265625   2.953125   \n",
       "2       1.633516e+12  0.351562 -0.879456 -0.335754   5.671875  24.656250   \n",
       "3       1.633516e+12  0.298584 -1.253479 -0.299622  -3.609375   2.687500   \n",
       "4       1.633516e+12  0.056152 -0.777405 -0.210754 -14.328125   5.421875   \n",
       "...              ...       ...       ...       ...        ...        ...   \n",
       "492671  1.632930e+12 -0.376465 -0.746399  0.693543  -0.171875  -0.953125   \n",
       "492672  1.632930e+12 -0.345703 -0.749329  0.677429  -0.671875  -0.187500   \n",
       "492673  1.632930e+12 -0.368408 -0.745422  0.690857  -0.218750  -0.640625   \n",
       "492674  1.632930e+12 -0.363281 -0.747375  0.689148   0.078125   0.796875   \n",
       "492675  1.632930e+12 -0.369873 -0.734436  0.684753  -0.140625  -0.531250   \n",
       "\n",
       "           gyro_z sensor_type          activity_type  activity_code  \\\n",
       "0       19.500000     Respeck        Climbing stairs           12.0   \n",
       "1       -9.281250     Respeck        Climbing stairs           12.0   \n",
       "2      -10.562500     Respeck        Climbing stairs           12.0   \n",
       "3        5.890625     Respeck        Climbing stairs           12.0   \n",
       "4        8.140625     Respeck        Climbing stairs           12.0   \n",
       "...           ...         ...                    ...            ...   \n",
       "492671   1.281250     Respeck  Sitting bent backward            5.0   \n",
       "492672  -1.015625     Respeck  Sitting bent backward            5.0   \n",
       "492673   0.375000     Respeck  Sitting bent backward            5.0   \n",
       "492674  -0.046875     Respeck  Sitting bent backward            5.0   \n",
       "492675   0.687500     Respeck  Sitting bent backward            5.0   \n",
       "\n",
       "       subject_id notes                                       recording_id  \n",
       "0        s1870467   rob  Respeck_s1870467_Climbing stairs_06-10-2021_11...  \n",
       "1        s1870467   rob  Respeck_s1870467_Climbing stairs_06-10-2021_11...  \n",
       "2        s1870467   rob  Respeck_s1870467_Climbing stairs_06-10-2021_11...  \n",
       "3        s1870467   rob  Respeck_s1870467_Climbing stairs_06-10-2021_11...  \n",
       "4        s1870467   rob  Respeck_s1870467_Climbing stairs_06-10-2021_11...  \n",
       "...           ...   ...                                                ...  \n",
       "492671   s2211228   NaN  Respeck_s2211228_Sitting bent backward_29-09-2...  \n",
       "492672   s2211228   NaN  Respeck_s2211228_Sitting bent backward_29-09-2...  \n",
       "492673   s2211228   NaN  Respeck_s2211228_Sitting bent backward_29-09-2...  \n",
       "492674   s2211228   NaN  Respeck_s2211228_Sitting bent backward_29-09-2...  \n",
       "492675   s2211228   NaN  Respeck_s2211228_Sitting bent backward_29-09-2...  \n",
       "\n",
       "[492676 rows x 13 columns]"
      ]
     },
     "execution_count": 346,
     "metadata": {},
     "output_type": "execute_result"
    }
   ],
   "source": [
    "base_df"
   ]
  },
  {
   "cell_type": "code",
   "execution_count": 347,
   "metadata": {},
   "outputs": [],
   "source": [
    "columns_of_interest_initial = ['accel_x', 'accel_y', 'accel_z', 'gyro_x', 'gyro_y', 'gyro_z','subject_id','activity_code', 'activity_type','recording_id']"
   ]
  },
  {
   "cell_type": "code",
   "execution_count": 349,
   "metadata": {},
   "outputs": [
    {
     "data": {
      "text/html": [
       "<div>\n",
       "<style scoped>\n",
       "    .dataframe tbody tr th:only-of-type {\n",
       "        vertical-align: middle;\n",
       "    }\n",
       "\n",
       "    .dataframe tbody tr th {\n",
       "        vertical-align: top;\n",
       "    }\n",
       "\n",
       "    .dataframe thead th {\n",
       "        text-align: right;\n",
       "    }\n",
       "</style>\n",
       "<table border=\"1\" class=\"dataframe\">\n",
       "  <thead>\n",
       "    <tr style=\"text-align: right;\">\n",
       "      <th></th>\n",
       "      <th>timestamp</th>\n",
       "      <th>accel_x</th>\n",
       "      <th>accel_y</th>\n",
       "      <th>accel_z</th>\n",
       "      <th>gyro_x</th>\n",
       "      <th>gyro_y</th>\n",
       "      <th>gyro_z</th>\n",
       "      <th>sensor_type</th>\n",
       "      <th>activity_type</th>\n",
       "      <th>activity_code</th>\n",
       "      <th>subject_id</th>\n",
       "      <th>notes</th>\n",
       "      <th>recording_id</th>\n",
       "    </tr>\n",
       "  </thead>\n",
       "  <tbody>\n",
       "    <tr>\n",
       "      <th>0</th>\n",
       "      <td>1.633516e+12</td>\n",
       "      <td>0.261475</td>\n",
       "      <td>-1.116516</td>\n",
       "      <td>-0.502991</td>\n",
       "      <td>-0.812500</td>\n",
       "      <td>12.312500</td>\n",
       "      <td>19.500000</td>\n",
       "      <td>Respeck</td>\n",
       "      <td>Climbing stairs</td>\n",
       "      <td>12.0</td>\n",
       "      <td>s1870467</td>\n",
       "      <td>rob</td>\n",
       "      <td>Respeck_s1870467_Climbing stairs_06-10-2021_11...</td>\n",
       "    </tr>\n",
       "    <tr>\n",
       "      <th>1</th>\n",
       "      <td>1.633516e+12</td>\n",
       "      <td>-0.177734</td>\n",
       "      <td>-0.636292</td>\n",
       "      <td>-0.477600</td>\n",
       "      <td>-5.265625</td>\n",
       "      <td>2.953125</td>\n",
       "      <td>-9.281250</td>\n",
       "      <td>Respeck</td>\n",
       "      <td>Climbing stairs</td>\n",
       "      <td>12.0</td>\n",
       "      <td>s1870467</td>\n",
       "      <td>rob</td>\n",
       "      <td>Respeck_s1870467_Climbing stairs_06-10-2021_11...</td>\n",
       "    </tr>\n",
       "    <tr>\n",
       "      <th>2</th>\n",
       "      <td>1.633516e+12</td>\n",
       "      <td>0.351562</td>\n",
       "      <td>-0.879456</td>\n",
       "      <td>-0.335754</td>\n",
       "      <td>5.671875</td>\n",
       "      <td>24.656250</td>\n",
       "      <td>-10.562500</td>\n",
       "      <td>Respeck</td>\n",
       "      <td>Climbing stairs</td>\n",
       "      <td>12.0</td>\n",
       "      <td>s1870467</td>\n",
       "      <td>rob</td>\n",
       "      <td>Respeck_s1870467_Climbing stairs_06-10-2021_11...</td>\n",
       "    </tr>\n",
       "    <tr>\n",
       "      <th>3</th>\n",
       "      <td>1.633516e+12</td>\n",
       "      <td>0.298584</td>\n",
       "      <td>-1.253479</td>\n",
       "      <td>-0.299622</td>\n",
       "      <td>-3.609375</td>\n",
       "      <td>2.687500</td>\n",
       "      <td>5.890625</td>\n",
       "      <td>Respeck</td>\n",
       "      <td>Climbing stairs</td>\n",
       "      <td>12.0</td>\n",
       "      <td>s1870467</td>\n",
       "      <td>rob</td>\n",
       "      <td>Respeck_s1870467_Climbing stairs_06-10-2021_11...</td>\n",
       "    </tr>\n",
       "    <tr>\n",
       "      <th>4</th>\n",
       "      <td>1.633516e+12</td>\n",
       "      <td>0.056152</td>\n",
       "      <td>-0.777405</td>\n",
       "      <td>-0.210754</td>\n",
       "      <td>-14.328125</td>\n",
       "      <td>5.421875</td>\n",
       "      <td>8.140625</td>\n",
       "      <td>Respeck</td>\n",
       "      <td>Climbing stairs</td>\n",
       "      <td>12.0</td>\n",
       "      <td>s1870467</td>\n",
       "      <td>rob</td>\n",
       "      <td>Respeck_s1870467_Climbing stairs_06-10-2021_11...</td>\n",
       "    </tr>\n",
       "    <tr>\n",
       "      <th>...</th>\n",
       "      <td>...</td>\n",
       "      <td>...</td>\n",
       "      <td>...</td>\n",
       "      <td>...</td>\n",
       "      <td>...</td>\n",
       "      <td>...</td>\n",
       "      <td>...</td>\n",
       "      <td>...</td>\n",
       "      <td>...</td>\n",
       "      <td>...</td>\n",
       "      <td>...</td>\n",
       "      <td>...</td>\n",
       "      <td>...</td>\n",
       "    </tr>\n",
       "    <tr>\n",
       "      <th>492670</th>\n",
       "      <td>1.632930e+12</td>\n",
       "      <td>-0.376465</td>\n",
       "      <td>-0.746399</td>\n",
       "      <td>0.693543</td>\n",
       "      <td>-0.171875</td>\n",
       "      <td>-0.953125</td>\n",
       "      <td>1.281250</td>\n",
       "      <td>Respeck</td>\n",
       "      <td>Sitting bent backward</td>\n",
       "      <td>5.0</td>\n",
       "      <td>s2211228</td>\n",
       "      <td>NaN</td>\n",
       "      <td>Respeck_s2211228_Sitting bent backward_29-09-2...</td>\n",
       "    </tr>\n",
       "    <tr>\n",
       "      <th>492671</th>\n",
       "      <td>1.632930e+12</td>\n",
       "      <td>-0.345703</td>\n",
       "      <td>-0.749329</td>\n",
       "      <td>0.677429</td>\n",
       "      <td>-0.671875</td>\n",
       "      <td>-0.187500</td>\n",
       "      <td>-1.015625</td>\n",
       "      <td>Respeck</td>\n",
       "      <td>Sitting bent backward</td>\n",
       "      <td>5.0</td>\n",
       "      <td>s2211228</td>\n",
       "      <td>NaN</td>\n",
       "      <td>Respeck_s2211228_Sitting bent backward_29-09-2...</td>\n",
       "    </tr>\n",
       "    <tr>\n",
       "      <th>492672</th>\n",
       "      <td>1.632930e+12</td>\n",
       "      <td>-0.368408</td>\n",
       "      <td>-0.745422</td>\n",
       "      <td>0.690857</td>\n",
       "      <td>-0.218750</td>\n",
       "      <td>-0.640625</td>\n",
       "      <td>0.375000</td>\n",
       "      <td>Respeck</td>\n",
       "      <td>Sitting bent backward</td>\n",
       "      <td>5.0</td>\n",
       "      <td>s2211228</td>\n",
       "      <td>NaN</td>\n",
       "      <td>Respeck_s2211228_Sitting bent backward_29-09-2...</td>\n",
       "    </tr>\n",
       "    <tr>\n",
       "      <th>492673</th>\n",
       "      <td>1.632930e+12</td>\n",
       "      <td>-0.363281</td>\n",
       "      <td>-0.747375</td>\n",
       "      <td>0.689148</td>\n",
       "      <td>0.078125</td>\n",
       "      <td>0.796875</td>\n",
       "      <td>-0.046875</td>\n",
       "      <td>Respeck</td>\n",
       "      <td>Sitting bent backward</td>\n",
       "      <td>5.0</td>\n",
       "      <td>s2211228</td>\n",
       "      <td>NaN</td>\n",
       "      <td>Respeck_s2211228_Sitting bent backward_29-09-2...</td>\n",
       "    </tr>\n",
       "    <tr>\n",
       "      <th>492674</th>\n",
       "      <td>1.632930e+12</td>\n",
       "      <td>-0.369873</td>\n",
       "      <td>-0.734436</td>\n",
       "      <td>0.684753</td>\n",
       "      <td>-0.140625</td>\n",
       "      <td>-0.531250</td>\n",
       "      <td>0.687500</td>\n",
       "      <td>Respeck</td>\n",
       "      <td>Sitting bent backward</td>\n",
       "      <td>5.0</td>\n",
       "      <td>s2211228</td>\n",
       "      <td>NaN</td>\n",
       "      <td>Respeck_s2211228_Sitting bent backward_29-09-2...</td>\n",
       "    </tr>\n",
       "  </tbody>\n",
       "</table>\n",
       "<p>492675 rows × 13 columns</p>\n",
       "</div>"
      ],
      "text/plain": [
       "           timestamp   accel_x   accel_y   accel_z     gyro_x     gyro_y  \\\n",
       "0       1.633516e+12  0.261475 -1.116516 -0.502991  -0.812500  12.312500   \n",
       "1       1.633516e+12 -0.177734 -0.636292 -0.477600  -5.265625   2.953125   \n",
       "2       1.633516e+12  0.351562 -0.879456 -0.335754   5.671875  24.656250   \n",
       "3       1.633516e+12  0.298584 -1.253479 -0.299622  -3.609375   2.687500   \n",
       "4       1.633516e+12  0.056152 -0.777405 -0.210754 -14.328125   5.421875   \n",
       "...              ...       ...       ...       ...        ...        ...   \n",
       "492670  1.632930e+12 -0.376465 -0.746399  0.693543  -0.171875  -0.953125   \n",
       "492671  1.632930e+12 -0.345703 -0.749329  0.677429  -0.671875  -0.187500   \n",
       "492672  1.632930e+12 -0.368408 -0.745422  0.690857  -0.218750  -0.640625   \n",
       "492673  1.632930e+12 -0.363281 -0.747375  0.689148   0.078125   0.796875   \n",
       "492674  1.632930e+12 -0.369873 -0.734436  0.684753  -0.140625  -0.531250   \n",
       "\n",
       "           gyro_z sensor_type          activity_type  activity_code  \\\n",
       "0       19.500000     Respeck        Climbing stairs           12.0   \n",
       "1       -9.281250     Respeck        Climbing stairs           12.0   \n",
       "2      -10.562500     Respeck        Climbing stairs           12.0   \n",
       "3        5.890625     Respeck        Climbing stairs           12.0   \n",
       "4        8.140625     Respeck        Climbing stairs           12.0   \n",
       "...           ...         ...                    ...            ...   \n",
       "492670   1.281250     Respeck  Sitting bent backward            5.0   \n",
       "492671  -1.015625     Respeck  Sitting bent backward            5.0   \n",
       "492672   0.375000     Respeck  Sitting bent backward            5.0   \n",
       "492673  -0.046875     Respeck  Sitting bent backward            5.0   \n",
       "492674   0.687500     Respeck  Sitting bent backward            5.0   \n",
       "\n",
       "       subject_id notes                                       recording_id  \n",
       "0        s1870467   rob  Respeck_s1870467_Climbing stairs_06-10-2021_11...  \n",
       "1        s1870467   rob  Respeck_s1870467_Climbing stairs_06-10-2021_11...  \n",
       "2        s1870467   rob  Respeck_s1870467_Climbing stairs_06-10-2021_11...  \n",
       "3        s1870467   rob  Respeck_s1870467_Climbing stairs_06-10-2021_11...  \n",
       "4        s1870467   rob  Respeck_s1870467_Climbing stairs_06-10-2021_11...  \n",
       "...           ...   ...                                                ...  \n",
       "492670   s2211228   NaN  Respeck_s2211228_Sitting bent backward_29-09-2...  \n",
       "492671   s2211228   NaN  Respeck_s2211228_Sitting bent backward_29-09-2...  \n",
       "492672   s2211228   NaN  Respeck_s2211228_Sitting bent backward_29-09-2...  \n",
       "492673   s2211228   NaN  Respeck_s2211228_Sitting bent backward_29-09-2...  \n",
       "492674   s2211228   NaN  Respeck_s2211228_Sitting bent backward_29-09-2...  \n",
       "\n",
       "[492675 rows x 13 columns]"
      ]
     },
     "execution_count": 349,
     "metadata": {},
     "output_type": "execute_result"
    }
   ],
   "source": [
    "base_df = base_df.dropna(subset=columns_of_interest_initial).reset_index(drop=True)\n",
    "base_df"
   ]
  },
  {
   "cell_type": "code",
   "execution_count": 352,
   "metadata": {},
   "outputs": [
    {
     "data": {
      "text/plain": [
       "<AxesSubplot:>"
      ]
     },
     "execution_count": 352,
     "metadata": {},
     "output_type": "execute_result"
    },
    {
     "data": {
      "image/png": "[encoded data removed]",
      "text/plain": [
       "<Figure size 432x288 with 1 Axes>"
      ]
     },
     "metadata": {
      "needs_background": "light"
     },
     "output_type": "display_data"
    }
   ],
   "source": [
    "base_df['accel_x'].plot()"
   ]
  },
  {
   "cell_type": "code",
   "execution_count": 381,
   "metadata": {},
   "outputs": [
    {
     "data": {
      "text/plain": [
       "<AxesSubplot:>"
      ]
     },
     "execution_count": 381,
     "metadata": {},
     "output_type": "execute_result"
    },
    {
     "data": {
      "image/png": "[encoded data removed]",
      "text/plain": [
       "<Figure size 432x288 with 1 Axes>"
      ]
     },
     "metadata": {
      "needs_background": "light"
     },
     "output_type": "display_data"
    }
   ],
   "source": [
    "len(base_df.activity_type.values == 'Falling on Knees')\n",
    "\n",
    "base_df[base_df['activity_type'] == 'Falling on the back'][columns_of_interest_training].plot()"
   ]
  },
  {
   "cell_type": "markdown",
   "metadata": {},
   "source": [
    "Now you can get a list of all recording ids, activities, sensor types and anything else you might need."
   ]
  },
  {
   "cell_type": "code",
   "execution_count": 353,
   "metadata": {},
   "outputs": [
    {
     "name": "stdout",
     "output_type": "stream",
     "text": [
      "The data was collected using the sensors: ['Respeck']\n",
      "The data was collected for the activities: ['Climbing stairs' 'Standing' 'Movement' 'Lying down on stomach'\n",
      " 'Sitting bent backward' 'Lying down left' 'Lying down on back'\n",
      " 'Descending stairs' 'Sitting bent forward' 'Walking at normal speed'\n",
      " 'Running' 'Lying down right' 'Desk work' 'Sitting' 'Falling on knees'\n",
      " 'Falling on the back' 'Falling on the right' 'Falling on the left']\n",
      "The number of unique recordings is: 876\n",
      "The subject IDs in the recordings are: 46\n"
     ]
    }
   ],
   "source": [
    "print(f\"The data was collected using the sensors: {base_df.sensor_type.unique()}\")\n",
    "print(f\"The data was collected for the activities: {base_df.activity_type.unique()}\")\n",
    "print(f\"The number of unique recordings is: {len(base_df.recording_id.unique())}\")\n",
    "print(f\"The subject IDs in the recordings are: {len(base_df.subject_id.unique())}\")"
   ]
  },
  {
   "cell_type": "code",
   "execution_count": 334,
   "metadata": {},
   "outputs": [],
   "source": [
    "from sklearn.model_selection import GroupShuffleSplit\n",
    "\n",
    "X_with_subject_id = base_df[columns_of_interest_initial]\n",
    "y_with_subject_id = base_df['activity_code']\n",
    "\n",
    "\n",
    "\n",
    "# X_train, X_test, y_train, y_test = train_test_split(X, y,\n",
    "#                                                     test_size=0.2, train_size=0.8)\n",
    "\n",
    "#Split by subject id\n",
    "gs = GroupShuffleSplit(n_splits=2, test_size=0.2, random_state=1)\n",
    "train_ix, test_ix = next(gs.split(X_with_subject_id, y_with_subject_id, groups=X_with_subject_id.subject_id))\n",
    "\n",
    "\n",
    "X_train_df = X_with_subject_id.loc[train_ix]\n",
    "X_test_df = X_with_subject_id.loc[test_ix]\n",
    "\n",
    "y_train_df = y_with_subject_id.loc[train_ix]\n",
    "y_test_df = y_with_subject_id.loc[test_ix]\n",
    "\n",
    "\n",
    "\n",
    "\n",
    "# #Convert categorical variable (labels) into dummy/indicator variables (one-hot encoding)\n",
    "# y_train = np.asarray(pd.get_dummies(y_train), dtype=np.float32)\n",
    "# y_test = np.asarray(pd.get_dummies(y_test), dtype=np.float32)\n",
    "\n",
    "\n"
   ]
  },
  {
   "cell_type": "code",
   "execution_count": 335,
   "metadata": {},
   "outputs": [
    {
     "name": "stdout",
     "output_type": "stream",
     "text": [
      "The subject IDs in the recordings are: 46\n",
      "The subject IDs in the training set are: 36\n",
      "The subject IDs in the test set are: 10\n"
     ]
    }
   ],
   "source": [
    "#Check how many subject_ids are in each of training and test set\n",
    "print(f\"The subject IDs in the recordings are: {len(base_df.subject_id.unique())}\")\n",
    "print(f\"The subject IDs in the training set are: {len(X_train_df.subject_id.unique())}\")\n",
    "print(f\"The subject IDs in the test set are: {len(X_test_df.subject_id.unique())}\")"
   ]
  },
  {
   "cell_type": "markdown",
   "metadata": {},
   "source": [
    "You can of course change the clean data folder to where you keep all the PDIoT data and you should be seeing a lot more subject IDs, unique recordings and activity types."
   ]
  },
  {
   "cell_type": "markdown",
   "metadata": {},
   "source": [
    "## Splitting data into sliding windows"
   ]
  },
  {
   "cell_type": "markdown",
   "metadata": {},
   "source": [
    "The sliding window approach is one of the most efficient ways to process Human Activity Recognition data. We saw in the last notebook that sensor data comes in the form of Time Series. One single datapoint is not enough to represent an activity, we need a larger snapshot of the signal for that. The image below shows how a sliding window achieves that. \n",
    "\n",
    "![sliding windows](../Images/sliding_windows_complete.png \"Sliding Windows\")\n",
    "\n",
    "The windows can have some amount of overlap, as shown in the picture, or they can have no overlap at all in which case they would be side-by-side.\n",
    "\n",
    "Each window can now be treated as an input datapoint to whichever model you choose to train. "
   ]
  },
  {
   "cell_type": "markdown",
   "metadata": {},
   "source": [
    "### Watch out for separate recordings"
   ]
  },
  {
   "cell_type": "markdown",
   "metadata": {},
   "source": [
    "You need to make sure that when you split your data into sliding windows you don't accidentally include two separate recordings in the same window. This would cause the signal from the first recording to suddenly \"jump\" to an unrelated value from the second recording. \n",
    "\n",
    "For this, you will have to first split up your dataset by recording (this is where the recording ID comes in), then you have to split each recording into sliding windows. At the end you can aggregate all of your resulting sliding windows in a large dataset."
   ]
  },
  {
   "cell_type": "code",
   "execution_count": null,
   "metadata": {},
   "outputs": [],
   "source": []
  },
  {
   "cell_type": "markdown",
   "metadata": {},
   "source": [
    "## From sliding windows to datapoints"
   ]
  },
  {
   "cell_type": "markdown",
   "metadata": {},
   "source": [
    "Each sliding window needs to be further processed in order to represent an appropriate input datapoint. The preprocessing methods might differ depending on which type of model you choose to use. \n",
    "\n",
    "You can also do further processing on the signal types and axes, for example smooth the signal, apply axis fusion, eliminate noise etc. \n",
    "\n",
    "Here we will discuss simple examples without any preprocessing. "
   ]
  },
  {
   "cell_type": "markdown",
   "metadata": {},
   "source": [
    "### Feature extraction with tsfresh"
   ]
  },
  {
   "cell_type": "markdown",
   "metadata": {},
   "source": [
    "Now the index represents the window ID, and each row in the DataFrame represents a multi-dimensional datapoint which we can use as input to the RFC.\n",
    "\n",
    "You can use the window ID to refer back to the initial dataframe and get the class (activity type) for each window."
   ]
  },
  {
   "cell_type": "markdown",
   "metadata": {},
   "source": [
    "We will now process both recordings so that we have two classes for our classifier. For your own work you should only aim to perform classification on data from one sensor. "
   ]
  },
  {
   "cell_type": "code",
   "execution_count": 384,
   "metadata": {},
   "outputs": [],
   "source": [
    "\n",
    "def group_into_sliding_windows(df,window_size=50,step_size=25):\n",
    "\n",
    "    window_number = 0 # start a counter at 0 to keep track of the window number\n",
    "\n",
    "    all_overlapping_windows = []\n",
    "\n",
    "\n",
    "    for rid, group in df.groupby(\"recording_id\"):\n",
    "        print(f\"Processing rid = {rid}\")\n",
    "        large_enough_windows = [window for window in group.rolling(window=window_size, min_periods=window_size) if len(window) == window_size]\n",
    "\n",
    "        \n",
    "\n",
    "        overlapping_windows = large_enough_windows[::step_size] \n",
    "        print(len(overlapping_windows))\n",
    "        # then we will append a window ID to each window\n",
    "        if overlapping_windows:\n",
    "            for window in overlapping_windows:\n",
    "                window.loc[:, 'window_id'] = window_number\n",
    "                window_number += 1\n",
    "\n",
    "\n",
    "            all_overlapping_windows.append(pd.concat(overlapping_windows).reset_index(drop=True))\n",
    "        \n",
    "    final_sliding_windows = pd.concat(all_overlapping_windows).reset_index(drop=True)\n",
    "    \n",
    "    #Test to see if there are any elements that have NaN\n",
    "    is_NaN = final_sliding_windows.isnull()\n",
    "    row_has_NaN = is_NaN.any(axis=1)\n",
    "    rows_with_NaN = final_sliding_windows[row_has_NaN]\n",
    "\n",
    "    print(rows_with_NaN)\n",
    "    return final_sliding_windows.reset_index(drop=True)"
   ]
  },
  {
   "cell_type": "code",
   "execution_count": 385,
   "metadata": {
    "scrolled": true
   },
   "outputs": [
    {
     "name": "stdout",
     "output_type": "stream",
     "text": [
      "Processing rid = Respeck_s1541031_Climbing stairs_06-10-2021_11-25-43\n",
      "29\n",
      "Processing rid = Respeck_s1541031_Descending stairs_06-10-2021_11-25-05\n",
      "30\n",
      "Processing rid = Respeck_s1541031_Desk work_06-10-2021_11-04-49\n",
      "30\n",
      "Processing rid = Respeck_s1541031_Lying down left_06-10-2021_14-30-04\n",
      "29\n",
      "Processing rid = Respeck_s1541031_Lying down on back_06-10-2021_11-15-13\n",
      "29\n",
      "Processing rid = Respeck_s1541031_Lying down on stomach_06-10-2021_14-30-50\n",
      "30\n",
      "Processing rid = Respeck_s1541031_Lying down right_06-10-2021_14-27-40\n",
      "30\n",
      "Processing rid = Respeck_s1541031_Movement_06-10-2021_11-11-18\n",
      "30\n",
      "Processing rid = Respeck_s1541031_Running_08-10-2021_12-10-37\n",
      "30\n",
      "Processing rid = Respeck_s1541031_Sitting bent backward_06-10-2021_14-33-45\n",
      "29\n",
      "Processing rid = Respeck_s1541031_Sitting bent forward_06-10-2021_14-32-55\n",
      "29\n",
      "Processing rid = Respeck_s1541031_Sitting_06-10-2021_10-25-01\n",
      "29\n",
      "Processing rid = Respeck_s1541031_Standing_06-10-2021_11-10-10\n",
      "29\n",
      "Processing rid = Respeck_s1541031_Walking at normal speed_06-10-2021_18-30-14\n",
      "30\n",
      "Processing rid = Respeck_s1704145_Climbing stairs_23-09-2021_11-34-34\n",
      "29\n",
      "Processing rid = Respeck_s1704145_Descending stairs_23-09-2021_11-30-25\n",
      "29\n",
      "Processing rid = Respeck_s1704145_Desk work_23-09-2021_11-44-47\n",
      "29\n",
      "Processing rid = Respeck_s1704145_Lying down left_23-09-2021_11-40-54\n",
      "29\n",
      "Processing rid = Respeck_s1704145_Lying down on back_23-09-2021_11-42-59\n",
      "29\n",
      "Processing rid = Respeck_s1704145_Lying down on stomach_05-10-2021_18-36-31\n",
      "29\n",
      "Processing rid = Respeck_s1704145_Lying down right_23-09-2021_11-41-34\n",
      "29\n",
      "Processing rid = Respeck_s1704145_Movement_23-09-2021_11-45-40\n",
      "29\n",
      "Processing rid = Respeck_s1704145_Running_23-09-2021_11-31-45\n",
      "29\n",
      "Processing rid = Respeck_s1704145_Sitting bent backward_23-09-2021_11-39-14\n",
      "29\n",
      "Processing rid = Respeck_s1704145_Sitting bent forward_23-09-2021_11-38-32\n",
      "29\n",
      "Processing rid = Respeck_s1704145_Sitting_23-09-2021_11-37-46\n",
      "29\n",
      "Processing rid = Respeck_s1704145_Standing_23-09-2021_11-40-05\n",
      "29\n",
      "Processing rid = Respeck_s1704145_Walking at normal speed_23-09-2021_11-32-29\n",
      "29\n",
      "Processing rid = Respeck_s1718069_Climbing_stairs_29-09-2021_12-31-14\n",
      "29\n",
      "Processing rid = Respeck_s1718069_Descending_stairs_29-09-2021_12-31-50\n",
      "29\n",
      "Processing rid = Respeck_s1718069_Desk work_29-09-2021_12-29-01\n",
      "30\n",
      "Processing rid = Respeck_s1718069_Lying down left_04-10-2021_14-27-34\n",
      "30\n",
      "Processing rid = Respeck_s1718069_Lying down on back_04-10-2021_14-26-49\n",
      "30\n",
      "Processing rid = Respeck_s1718069_Lying down on stomach_04-10-2021_14-29-09\n",
      "29\n",
      "Processing rid = Respeck_s1718069_Lying down right_04-10-2021_14-28-13\n",
      "30\n",
      "Processing rid = Respeck_s1718069_Movement_04-10-2021_14-29-53\n",
      "30\n",
      "Processing rid = Respeck_s1718069_Running_04-10-2021_14-36-00\n",
      "30\n",
      "Processing rid = Respeck_s1718069_Sitting bent backward_29-09-2021_12-25-58\n",
      "30\n",
      "Processing rid = Respeck_s1718069_Sitting bent forward_29-09-2021_12-25-17\n",
      "29\n",
      "Processing rid = Respeck_s1718069_Sitting_29-09-2021_12-24-35\n",
      "30\n",
      "Processing rid = Respeck_s1718069_Standing_29-09-2021_12-26-43\n",
      "30\n",
      "Processing rid = Respeck_s1718069_Walking at normal speed_29-09-2021_12-27-51\n",
      "29\n",
      "Processing rid = Respeck_s1721256_Climbing stairs_02-10-2021_17-29-22\n",
      "30\n",
      "Processing rid = Respeck_s1721256_Descending stairs_02-10-2021_17-21-29\n",
      "30\n",
      "Processing rid = Respeck_s1721256_Desk work_01-10-2021_20-10-06\n",
      "30\n",
      "Processing rid = Respeck_s1721256_Lying down left_01-10-2021_19-04-39\n",
      "30\n",
      "Processing rid = Respeck_s1721256_Lying down on back_01-10-2021_19-03-04\n",
      "30\n",
      "Processing rid = Respeck_s1721256_Lying down on stomach_01-10-2021_19-06-05\n",
      "30\n",
      "Processing rid = Respeck_s1721256_Lying down right_01-10-2021_19-07-30\n",
      "30\n",
      "Processing rid = Respeck_s1721256_Movement_01-10-2021_20-07-39\n",
      "30\n",
      "Processing rid = Respeck_s1721256_Running_02-10-2021_17-26-10\n",
      "30\n",
      "Processing rid = Respeck_s1721256_Sitting bent backward_02-10-2021_17-39-15\n",
      "30\n",
      "Processing rid = Respeck_s1721256_Sitting bent forward_01-10-2021_18-46-19\n",
      "29\n",
      "Processing rid = Respeck_s1721256_Sitting_01-10-2021_18-42-57\n",
      "30\n",
      "Processing rid = Respeck_s1721256_Standing_01-10-2021_19-00-30\n",
      "30\n",
      "Processing rid = Respeck_s1721256_Walking at normal speed_02-10-2021_22-12-45\n",
      "30\n",
      "Processing rid = Respeck_s1724067_Desk work_03-10-2021_16-42-32\n",
      "29\n",
      "Processing rid = Respeck_s1724067_Lying down left_03-10-2021_16-31-15\n",
      "29\n",
      "Processing rid = Respeck_s1724067_Lying down on back_03-10-2021_16-39-39\n",
      "29\n",
      "Processing rid = Respeck_s1724067_Lying down on stomach_03-10-2021_16-38-06\n",
      "29\n",
      "Processing rid = Respeck_s1724067_Lying down right_03-10-2021_16-32-52\n",
      "29\n",
      "Processing rid = Respeck_s1724067_Movement_06-10-2021_19-32-46\n",
      "29\n",
      "Processing rid = Respeck_s1724067_Running_06-10-2021_19-55-17\n",
      "29\n",
      "Processing rid = Respeck_s1724067_Sitting bent backward_03-10-2021_16-28-44\n",
      "29\n",
      "Processing rid = Respeck_s1724067_Sitting bent forward_03-10-2021_16-27-22\n",
      "29\n",
      "Processing rid = Respeck_s1724067_Sitting_03-10-2021_16-25-59\n",
      "29\n",
      "Processing rid = Respeck_s1724067_Standing_03-10-2021_16-29-48\n",
      "29\n",
      "Processing rid = Respeck_s1724067_Walking at normal speed_06-10-2021_19-54-01\n",
      "29\n",
      "Processing rid = Respeck_s1724279_Climbing stairs_30-09-2021_12-42-15\n",
      "29\n",
      "Processing rid = Respeck_s1724279_Descending stairs_07-10-2021_16-28-34\n",
      "28\n",
      "Processing rid = Respeck_s1724279_Desk work_06-10-2021_12-34-21\n",
      "29\n",
      "Processing rid = Respeck_s1724279_Lying down left_30-09-2021_12-36-48\n",
      "29\n",
      "Processing rid = Respeck_s1724279_Lying down on back_30-09-2021_12-35-42\n",
      "29\n",
      "Processing rid = Respeck_s1724279_Lying down on stomach_30-09-2021_12-38-59\n",
      "29\n",
      "Processing rid = Respeck_s1724279_Lying down right_30-09-2021_12-37-51\n",
      "29\n",
      "Processing rid = Respeck_s1724279_Movement_30-09-2021_12-44-55\n",
      "28\n",
      "Processing rid = Respeck_s1724279_Running_30-09-2021_12-40-35\n",
      "29\n",
      "Processing rid = Respeck_s1724279_Sitting bent backward_30-09-2021_12-34-01\n",
      "29\n",
      "Processing rid = Respeck_s1724279_Sitting bent forward_30-09-2021_12-33-17\n",
      "29\n",
      "Processing rid = Respeck_s1724279_Sitting_29-09-2021_12-47-37\n",
      "29\n",
      "Processing rid = Respeck_s1724279_Standing_30-09-2021_12-34-44\n",
      "29\n",
      "Processing rid = Respeck_s1724279_Walking at normal speed_30-09-2021_12-39-50\n",
      "29\n",
      "Processing rid = Respeck_s1727780_Desk work_29-09-2021_21-46-51\n",
      "29\n",
      "Processing rid = Respeck_s1727780_Lying down left_29-09-2021_21-43-14\n",
      "29\n",
      "Processing rid = Respeck_s1727780_Lying down on back_29-09-2021_21-42-18\n",
      "29\n",
      "Processing rid = Respeck_s1727780_Lying down on stomach_29-09-2021_21-44-58\n",
      "29\n",
      "Processing rid = Respeck_s1727780_Lying down right_29-09-2021_21-44-04\n",
      "29\n",
      "Processing rid = Respeck_s1727780_Movement_29-09-2021_21-48-00\n",
      "29\n",
      "Processing rid = Respeck_s1727780_Running_29-09-2021_21-27-29\n",
      "29\n",
      "Processing rid = Respeck_s1727780_Sitting bent backward_29-09-2021_21-40-08\n",
      "29\n",
      "Processing rid = Respeck_s1727780_Sitting bent forward_29-09-2021_21-39-24\n",
      "29\n",
      "Processing rid = Respeck_s1727780_Sitting_29-09-2021_21-38-44\n",
      "29\n",
      "Processing rid = Respeck_s1727780_Standing_29-09-2021_21-40-57\n",
      "29\n",
      "Processing rid = Respeck_s1727780_Walking at normal speed_29-09-2021_21-28-37\n",
      "29\n",
      "Processing rid = Respeck_s1732873_Climbing stairs_04-10-2021_16-00-19\n",
      "30\n",
      "Processing rid = Respeck_s1732873_Descending stairs_04-10-2021_16-02-14\n",
      "28\n",
      "Processing rid = Respeck_s1732873_Desk work_04-10-2021_13-03-22\n",
      "29\n",
      "Processing rid = Respeck_s1732873_Lying down left_04-10-2021_13-00-51\n",
      "28\n",
      "Processing rid = Respeck_s1732873_Lying down on back_04-10-2021_12-57-16\n",
      "30\n",
      "Processing rid = Respeck_s1732873_Lying down on stomach_04-10-2021_13-01-40\n",
      "28\n",
      "Processing rid = Respeck_s1732873_Lying down right_04-10-2021_13-00-02\n",
      "29\n",
      "Processing rid = Respeck_s1732873_Movement_04-10-2021_16-10-37\n",
      "29\n",
      "Processing rid = Respeck_s1732873_Running_04-10-2021_15-32-54\n",
      "29\n",
      "Processing rid = Respeck_s1732873_Sitting bent backward_04-10-2021_12-55-01\n",
      "29\n",
      "Processing rid = Respeck_s1732873_Sitting bent forward_04-10-2021_12-54-13\n",
      "29\n",
      "Processing rid = Respeck_s1732873_Sitting_04-10-2021_12-53-07\n",
      "29\n",
      "Processing rid = Respeck_s1732873_Standing_04-10-2021_12-55-45\n",
      "28\n",
      "Processing rid = Respeck_s1732873_Walking at normal speed_04-10-2021_15-30-06\n",
      "29\n",
      "Processing rid = Respeck_s1757177_Climbing stairs_06-10-2021_16-34-18\n",
      "30\n",
      "Processing rid = Respeck_s1757177_Descending stairs_02-10-2021_13-57-31\n",
      "30\n",
      "Processing rid = Respeck_s1757177_Desk work_02-10-2021_13-47-55\n",
      "30\n",
      "Processing rid = Respeck_s1757177_Lying down left_06-10-2021_20-37-42\n",
      "30\n",
      "Processing rid = Respeck_s1757177_Lying down on back_02-10-2021_19-55-43\n"
     ]
    },
    {
     "name": "stdout",
     "output_type": "stream",
     "text": [
      "30\n",
      "Processing rid = Respeck_s1757177_Lying down on stomach_02-10-2021_20-00-57\n",
      "30\n",
      "Processing rid = Respeck_s1757177_Lying down right_06-10-2021_20-38-38\n",
      "30\n",
      "Processing rid = Respeck_s1757177_Movement_06-10-2021_16-44-16\n",
      "30\n",
      "Processing rid = Respeck_s1757177_Running_02-10-2021_14-09-21\n",
      "30\n",
      "Processing rid = Respeck_s1757177_Sitting bent backward_06-10-2021_16-40-06\n",
      "30\n",
      "Processing rid = Respeck_s1757177_Sitting bent forward_06-10-2021_16-41-05\n",
      "30\n",
      "Processing rid = Respeck_s1757177_Sitting_02-10-2021_13-38-45\n",
      "30\n",
      "Processing rid = Respeck_s1757177_Standing_02-10-2021_13-46-10\n",
      "30\n",
      "Processing rid = Respeck_s1757177_Walking at normal speed_02-10-2021_14-01-07\n",
      "30\n",
      "Processing rid = Respeck_s1761322_Climbing stairs_06-10-2021_11-51-15\n",
      "29\n",
      "Processing rid = Respeck_s1761322_Descending stairs_06-10-2021_11-52-16\n",
      "29\n",
      "Processing rid = Respeck_s1761322_Desk work_06-10-2021_12-22-13\n",
      "29\n",
      "Processing rid = Respeck_s1761322_Lying down left_27-09-2021_11-00-29\n",
      "29\n",
      "Processing rid = Respeck_s1761322_Lying down on back_27-09-2021_10-58-02\n",
      "29\n",
      "Processing rid = Respeck_s1761322_Lying down on stomach_27-09-2021_11-01-33\n",
      "29\n",
      "Processing rid = Respeck_s1761322_Lying down right_27-09-2021_11-04-14\n",
      "29\n",
      "Processing rid = Respeck_s1761322_Movement_27-09-2021_12-31-40\n",
      "29\n",
      "Processing rid = Respeck_s1761322_Running_27-09-2021_13-06-31\n",
      "29\n",
      "Processing rid = Respeck_s1761322_Sitting bent backward_27-09-2021_10-50-15\n",
      "29\n",
      "Processing rid = Respeck_s1761322_Sitting bent forward_27-09-2021_10-47-12\n",
      "29\n",
      "Processing rid = Respeck_s1761322_Sitting_27-09-2021_10-44-15\n",
      "29\n",
      "Processing rid = Respeck_s1761322_Standing_27-09-2021_10-36-08\n",
      "29\n",
      "Processing rid = Respeck_s1761322_Walking at normal speed_27-09-2021_13-07-55\n",
      "29\n",
      "Processing rid = Respeck_s1800883_Climbing stairs_29-09-2021_14-36-21\n",
      "29\n",
      "Processing rid = Respeck_s1800883_Descending stairs_29-09-2021_14-35-23\n",
      "29\n",
      "Processing rid = Respeck_s1800883_Desk work_29-09-2021_14-50-28\n",
      "29\n",
      "Processing rid = Respeck_s1800883_Lying down left_29-09-2021_13-40-06\n",
      "29\n",
      "Processing rid = Respeck_s1800883_Lying down on back_29-09-2021_13-38-01\n",
      "29\n",
      "Processing rid = Respeck_s1800883_Lying down on stomach_29-09-2021_13-39-15\n",
      "29\n",
      "Processing rid = Respeck_s1800883_Lying down right_29-09-2021_13-41-27\n",
      "29\n",
      "Processing rid = Respeck_s1800883_Movement_29-09-2021_14-52-02\n",
      "29\n",
      "Processing rid = Respeck_s1800883_Running_29-09-2021_14-41-45\n",
      "29\n",
      "Processing rid = Respeck_s1800883_Sitting bent backward_29-09-2021_13-35-01\n",
      "29\n",
      "Processing rid = Respeck_s1800883_Sitting bent forward_29-09-2021_13-33-04\n",
      "29\n",
      "Processing rid = Respeck_s1800883_Sitting_29-09-2021_13-31-04\n",
      "29\n",
      "Processing rid = Respeck_s1800883_Standing_29-09-2021_13-28-54\n",
      "29\n",
      "Processing rid = Respeck_s1800883_Walking at normal speed_29-09-2021_14-39-24\n",
      "29\n",
      "Processing rid = Respeck_s1801931_Climbing stairs_06-10-2021_00-23-12\n",
      "29\n",
      "Processing rid = Respeck_s1801931_Descending stairs_06-10-2021_00-21-24\n",
      "29\n",
      "Processing rid = Respeck_s1801931_Desk work_05-10-2021_23-13-57\n",
      "29\n",
      "Processing rid = Respeck_s1801931_Lying down left_05-10-2021_23-02-37\n",
      "30\n",
      "Processing rid = Respeck_s1801931_Lying down on back_05-10-2021_23-00-21\n",
      "29\n",
      "Processing rid = Respeck_s1801931_Lying down on stomach_05-10-2021_23-07-46\n",
      "29\n",
      "Processing rid = Respeck_s1801931_Lying down right_05-10-2021_23-04-30\n",
      "29\n",
      "Processing rid = Respeck_s1801931_Movement_05-10-2021_23-12-29\n",
      "29\n",
      "Processing rid = Respeck_s1801931_Running_06-10-2021_00-28-00\n",
      "30\n",
      "Processing rid = Respeck_s1801931_Sitting bent backward_05-10-2021_22-58-02\n",
      "30\n",
      "Processing rid = Respeck_s1801931_Sitting bent forward_05-10-2021_22-56-09\n",
      "30\n",
      "Processing rid = Respeck_s1801931_Sitting_05-10-2021_22-46-37\n",
      "30\n",
      "Processing rid = Respeck_s1801931_Standing_05-10-2021_22-38-33\n",
      "30\n",
      "Processing rid = Respeck_s1801931_Walking at normal speed_06-10-2021_00-19-32\n",
      "30\n",
      "Processing rid = Respeck_s1813106_Descending stairs_07-10-2021_11-35-40\n",
      "29\n",
      "Processing rid = Respeck_s1813106_Desk work_07-10-2021_01-12-36\n",
      "29\n",
      "Processing rid = Respeck_s1813106_Lying down left_06-10-2021_20-22-50\n",
      "30\n",
      "Processing rid = Respeck_s1813106_Lying down on back_06-10-2021_20-26-49\n",
      "29\n",
      "Processing rid = Respeck_s1813106_Lying down on stomach_06-10-2021_20-25-39\n",
      "29\n",
      "Processing rid = Respeck_s1813106_Lying down right_06-10-2021_20-23-35\n",
      "29\n",
      "Processing rid = Respeck_s1813106_Movement_07-10-2021_01-18-49\n",
      "28\n",
      "Processing rid = Respeck_s1813106_Running_07-10-2021_00-34-58\n",
      "29\n",
      "Processing rid = Respeck_s1813106_Sitting bent backward_06-10-2021_20-16-19\n",
      "29\n",
      "Processing rid = Respeck_s1813106_Sitting bent forward_06-10-2021_20-21-25\n",
      "29\n",
      "Processing rid = Respeck_s1813106_Sitting_06-10-2021_20-14-40\n",
      "29\n",
      "Processing rid = Respeck_s1813106_Standing_06-10-2021_20-17-11\n",
      "29\n",
      "Processing rid = Respeck_s1813106_Walking at normal speed_07-10-2021_00-34-16\n",
      "29\n",
      "Processing rid = Respeck_s1817455_Desk work_29-09-2021_14-46-50\n",
      "29\n",
      "Processing rid = Respeck_s1817455_Lying down left_29-09-2021_14-30-02\n",
      "29\n",
      "Processing rid = Respeck_s1817455_Lying down on back_29-09-2021_14-43-10\n",
      "29\n",
      "Processing rid = Respeck_s1817455_Lying down on stomach_29-09-2021_14-41-47\n",
      "29\n",
      "Processing rid = Respeck_s1817455_Lying down right_29-09-2021_14-40-25\n",
      "29\n",
      "Processing rid = Respeck_s1817455_Movement_29-09-2021_14-48-46\n",
      "29\n",
      "Processing rid = Respeck_s1817455_Running_29-09-2021_14-57-36\n",
      "29\n",
      "Processing rid = Respeck_s1817455_Sitting bent backward_29-09-2021_14-24-39\n",
      "29\n",
      "Processing rid = Respeck_s1817455_Sitting bent forward_29-09-2021_14-22-39\n",
      "30\n",
      "Processing rid = Respeck_s1817455_Sitting_29-09-2021_14-19-52\n",
      "29\n",
      "Processing rid = Respeck_s1817455_Standing_29-09-2021_14-26-43\n",
      "29\n",
      "Processing rid = Respeck_s1817455_Walking at normal speed_29-09-2021_14-54-19\n",
      "29\n",
      "Processing rid = Respeck_s1817972_Climbing stairs_05-10-2021_14-15-10\n",
      "30\n",
      "Processing rid = Respeck_s1817972_Descending stairs_05-10-2021_14-14-27\n",
      "30\n",
      "Processing rid = Respeck_s1817972_Desk work_05-10-2021_11-25-28\n",
      "30\n",
      "Processing rid = Respeck_s1817972_Lying down left_05-10-2021_11-22-07\n",
      "30\n",
      "Processing rid = Respeck_s1817972_Lying down on back_05-10-2021_11-21-00\n",
      "30\n",
      "Processing rid = Respeck_s1817972_Lying down on stomach_05-10-2021_11-23-43\n",
      "30\n",
      "Processing rid = Respeck_s1817972_Lying down right_06-10-2021_18-40-09\n",
      "30\n",
      "Processing rid = Respeck_s1817972_Movement_05-10-2021_11-24-38\n",
      "30\n",
      "Processing rid = Respeck_s1817972_Running_06-10-2021_18-55-16\n",
      "30\n",
      "Processing rid = Respeck_s1817972_Sitting bent backward_05-10-2021_11-19-06\n",
      "30\n",
      "Processing rid = Respeck_s1817972_Sitting bent forward_05-10-2021_11-18-24\n",
      "29\n",
      "Processing rid = Respeck_s1817972_Sitting_05-10-2021_11-17-41\n",
      "30\n",
      "Processing rid = Respeck_s1817972_Standing_05-10-2021_11-19-57\n",
      "30\n",
      "Processing rid = Respeck_s1817972_Walking at normal speed_06-10-2021_18-28-49\n",
      "30\n",
      "Processing rid = Respeck_s1822958_Desk work_29-09-2021_17-03-03\n",
      "29\n",
      "Processing rid = Respeck_s1822958_Lying down left_29-09-2021_16-25-06\n",
      "29\n",
      "Processing rid = Respeck_s1822958_Lying down on back_29-09-2021_16-23-29\n",
      "29\n",
      "Processing rid = Respeck_s1822958_Lying down on stomach_29-09-2021_16-28-39\n",
      "29\n",
      "Processing rid = Respeck_s1822958_Lying down right_29-09-2021_16-26-40\n",
      "29\n",
      "Processing rid = Respeck_s1822958_Movement_29-09-2021_17-01-18\n",
      "29\n",
      "Processing rid = Respeck_s1822958_Running_29-09-2021_16-58-51\n",
      "29\n",
      "Processing rid = Respeck_s1822958_Sitting bent backward_29-09-2021_17-07-55\n",
      "29\n",
      "Processing rid = Respeck_s1822958_Sitting bent forward_30-09-2021_17-15-20\n",
      "29\n",
      "Processing rid = Respeck_s1822958_Sitting_29-09-2021_17-04-59\n",
      "29\n",
      "Processing rid = Respeck_s1822958_Standing_29-09-2021_17-10-05\n",
      "29\n",
      "Processing rid = Respeck_s1822958_Walking at normal speed_29-09-2021_16-56-34\n",
      "29\n",
      "Processing rid = Respeck_s1823274_Climbing stairs_29-09-2021_15-12-47\n",
      "29\n",
      "Processing rid = Respeck_s1823274_Descending stairs_29-09-2021_12-42-24\n",
      "30\n",
      "Processing rid = Respeck_s1823274_Desk work_29-09-2021_12-35-12\n",
      "29\n",
      "Processing rid = Respeck_s1823274_Lying down left_29-09-2021_12-26-28\n",
      "30\n",
      "Processing rid = Respeck_s1823274_Lying down on back_29-09-2021_12-25-45\n",
      "29\n",
      "Processing rid = Respeck_s1823274_Lying down on stomach_29-09-2021_12-27-51\n",
      "30\n",
      "Processing rid = Respeck_s1823274_Lying down right_29-09-2021_12-27-07\n",
      "29\n",
      "Processing rid = Respeck_s1823274_Movement_29-09-2021_12-34-25\n",
      "29\n",
      "Processing rid = Respeck_s1823274_Running_29-09-2021_15-11-43\n",
      "29\n",
      "Processing rid = Respeck_s1823274_Sitting bent backward_29-09-2021_12-22-22\n",
      "29\n",
      "Processing rid = Respeck_s1823274_Sitting bent forward_29-09-2021_12-21-37\n",
      "29\n",
      "Processing rid = Respeck_s1823274_Sitting_29-09-2021_12-20-53\n"
     ]
    },
    {
     "name": "stdout",
     "output_type": "stream",
     "text": [
      "29\n",
      "Processing rid = Respeck_s1823274_Standing_29-09-2021_12-23-09\n",
      "29\n",
      "Processing rid = Respeck_s1823274_Walking at normal speed_29-09-2021_12-30-31\n",
      "29\n",
      "Processing rid = Respeck_s1824891_Climbing stairs_06-10-2021_17-03-00\n",
      "29\n",
      "Processing rid = Respeck_s1824891_Descending stairs_06-10-2021_17-01-27\n",
      "29\n",
      "Processing rid = Respeck_s1824891_Desk work_06-10-2021_16-55-14\n",
      "29\n",
      "Processing rid = Respeck_s1824891_Lying down left_06-10-2021_16-48-30\n",
      "29\n",
      "Processing rid = Respeck_s1824891_Lying down on back_06-10-2021_16-45-46\n",
      "29\n",
      "Processing rid = Respeck_s1824891_Lying down on stomach_06-10-2021_16-51-24\n",
      "29\n",
      "Processing rid = Respeck_s1824891_Lying down right_06-10-2021_16-49-56\n",
      "29\n",
      "Processing rid = Respeck_s1824891_Movement_06-10-2021_16-53-11\n",
      "29\n",
      "Processing rid = Respeck_s1824891_Running_06-10-2021_17-05-47\n",
      "29\n",
      "Processing rid = Respeck_s1824891_Sitting bent backward_06-10-2021_16-42-14\n",
      "29\n",
      "Processing rid = Respeck_s1824891_Sitting bent forward_06-10-2021_16-41-00\n",
      "29\n",
      "Processing rid = Respeck_s1824891_Sitting_07-10-2021_22-17-50\n",
      "29\n",
      "Processing rid = Respeck_s1824891_Standing_07-10-2021_22-15-47\n",
      "29\n",
      "Processing rid = Respeck_s1824891_Walking at normal speed_06-10-2021_16-59-35\n",
      "29\n",
      "Processing rid = Respeck_s1826390_Climbing stairs_07-10-2021_20-37-39\n",
      "28\n",
      "Processing rid = Respeck_s1826390_Descending stairs_07-10-2021_20-36-21\n",
      "28\n",
      "Processing rid = Respeck_s1826390_Desk work_07-10-2021_18-48-35\n",
      "28\n",
      "Processing rid = Respeck_s1826390_Falling on knees_07-10-2021_18-53-08\n",
      "0\n"
     ]
    },
    {
     "ename": "ValueError",
     "evalue": "No objects to concatenate",
     "output_type": "error",
     "traceback": [
      "\u001b[0;31m---------------------------------------------------------------------------\u001b[0m",
      "\u001b[0;31mValueError\u001b[0m                                Traceback (most recent call last)",
      "\u001b[0;32m<ipython-input-385-a6a1e84f5f81>\u001b[0m in \u001b[0;36m<module>\u001b[0;34m\u001b[0m\n\u001b[1;32m      2\u001b[0m \u001b[0mstep_size\u001b[0m \u001b[0;34m=\u001b[0m \u001b[0;36m25\u001b[0m \u001b[0;31m# this is 50% overlap (step_size=25)\u001b[0m\u001b[0;34m\u001b[0m\u001b[0;34m\u001b[0m\u001b[0m\n\u001b[1;32m      3\u001b[0m \u001b[0;34m\u001b[0m\u001b[0m\n\u001b[0;32m----> 4\u001b[0;31m \u001b[0mX_train_sliding_windows\u001b[0m \u001b[0;34m=\u001b[0m \u001b[0mgroup_into_sliding_windows\u001b[0m\u001b[0;34m(\u001b[0m\u001b[0mX_train_df\u001b[0m\u001b[0;34m,\u001b[0m\u001b[0mwindow_size\u001b[0m\u001b[0;34m,\u001b[0m\u001b[0mstep_size\u001b[0m\u001b[0;34m)\u001b[0m\u001b[0;34m\u001b[0m\u001b[0;34m\u001b[0m\u001b[0m\n\u001b[0m\u001b[1;32m      5\u001b[0m \u001b[0mX_test_sliding_windows\u001b[0m \u001b[0;34m=\u001b[0m \u001b[0mgroup_into_sliding_windows\u001b[0m\u001b[0;34m(\u001b[0m\u001b[0mX_test_df\u001b[0m\u001b[0;34m,\u001b[0m\u001b[0mwindow_size\u001b[0m\u001b[0;34m,\u001b[0m\u001b[0mstep_size\u001b[0m\u001b[0;34m)\u001b[0m\u001b[0;34m\u001b[0m\u001b[0;34m\u001b[0m\u001b[0m\n",
      "\u001b[0;32m<ipython-input-384-4d41b2b2e2b1>\u001b[0m in \u001b[0;36mgroup_into_sliding_windows\u001b[0;34m(df, window_size, step_size)\u001b[0m\n\u001b[1;32m     21\u001b[0m \u001b[0;34m\u001b[0m\u001b[0m\n\u001b[1;32m     22\u001b[0m \u001b[0;34m\u001b[0m\u001b[0m\n\u001b[0;32m---> 23\u001b[0;31m         \u001b[0mall_overlapping_windows\u001b[0m\u001b[0;34m.\u001b[0m\u001b[0mappend\u001b[0m\u001b[0;34m(\u001b[0m\u001b[0mpd\u001b[0m\u001b[0;34m.\u001b[0m\u001b[0mconcat\u001b[0m\u001b[0;34m(\u001b[0m\u001b[0moverlapping_windows\u001b[0m\u001b[0;34m)\u001b[0m\u001b[0;34m.\u001b[0m\u001b[0mreset_index\u001b[0m\u001b[0;34m(\u001b[0m\u001b[0mdrop\u001b[0m\u001b[0;34m=\u001b[0m\u001b[0;32mTrue\u001b[0m\u001b[0;34m)\u001b[0m\u001b[0;34m)\u001b[0m\u001b[0;34m\u001b[0m\u001b[0;34m\u001b[0m\u001b[0m\n\u001b[0m\u001b[1;32m     24\u001b[0m \u001b[0;34m\u001b[0m\u001b[0m\n\u001b[1;32m     25\u001b[0m     \u001b[0mfinal_sliding_windows\u001b[0m \u001b[0;34m=\u001b[0m \u001b[0mpd\u001b[0m\u001b[0;34m.\u001b[0m\u001b[0mconcat\u001b[0m\u001b[0;34m(\u001b[0m\u001b[0mall_overlapping_windows\u001b[0m\u001b[0;34m)\u001b[0m\u001b[0;34m.\u001b[0m\u001b[0mreset_index\u001b[0m\u001b[0;34m(\u001b[0m\u001b[0mdrop\u001b[0m\u001b[0;34m=\u001b[0m\u001b[0;32mTrue\u001b[0m\u001b[0;34m)\u001b[0m\u001b[0;34m\u001b[0m\u001b[0;34m\u001b[0m\u001b[0m\n",
      "\u001b[0;32m~/miniconda3/envs/pdiot/lib/python3.7/site-packages/pandas/util/_decorators.py\u001b[0m in \u001b[0;36mwrapper\u001b[0;34m(*args, **kwargs)\u001b[0m\n\u001b[1;32m    309\u001b[0m                     \u001b[0mstacklevel\u001b[0m\u001b[0;34m=\u001b[0m\u001b[0mstacklevel\u001b[0m\u001b[0;34m,\u001b[0m\u001b[0;34m\u001b[0m\u001b[0;34m\u001b[0m\u001b[0m\n\u001b[1;32m    310\u001b[0m                 )\n\u001b[0;32m--> 311\u001b[0;31m             \u001b[0;32mreturn\u001b[0m \u001b[0mfunc\u001b[0m\u001b[0;34m(\u001b[0m\u001b[0;34m*\u001b[0m\u001b[0margs\u001b[0m\u001b[0;34m,\u001b[0m \u001b[0;34m**\u001b[0m\u001b[0mkwargs\u001b[0m\u001b[0;34m)\u001b[0m\u001b[0;34m\u001b[0m\u001b[0;34m\u001b[0m\u001b[0m\n\u001b[0m\u001b[1;32m    312\u001b[0m \u001b[0;34m\u001b[0m\u001b[0m\n\u001b[1;32m    313\u001b[0m         \u001b[0;32mreturn\u001b[0m \u001b[0mwrapper\u001b[0m\u001b[0;34m\u001b[0m\u001b[0;34m\u001b[0m\u001b[0m\n",
      "\u001b[0;32m~/miniconda3/envs/pdiot/lib/python3.7/site-packages/pandas/core/reshape/concat.py\u001b[0m in \u001b[0;36mconcat\u001b[0;34m(objs, axis, join, ignore_index, keys, levels, names, verify_integrity, sort, copy)\u001b[0m\n\u001b[1;32m    302\u001b[0m         \u001b[0mverify_integrity\u001b[0m\u001b[0;34m=\u001b[0m\u001b[0mverify_integrity\u001b[0m\u001b[0;34m,\u001b[0m\u001b[0;34m\u001b[0m\u001b[0;34m\u001b[0m\u001b[0m\n\u001b[1;32m    303\u001b[0m         \u001b[0mcopy\u001b[0m\u001b[0;34m=\u001b[0m\u001b[0mcopy\u001b[0m\u001b[0;34m,\u001b[0m\u001b[0;34m\u001b[0m\u001b[0;34m\u001b[0m\u001b[0m\n\u001b[0;32m--> 304\u001b[0;31m         \u001b[0msort\u001b[0m\u001b[0;34m=\u001b[0m\u001b[0msort\u001b[0m\u001b[0;34m,\u001b[0m\u001b[0;34m\u001b[0m\u001b[0;34m\u001b[0m\u001b[0m\n\u001b[0m\u001b[1;32m    305\u001b[0m     )\n\u001b[1;32m    306\u001b[0m \u001b[0;34m\u001b[0m\u001b[0m\n",
      "\u001b[0;32m~/miniconda3/envs/pdiot/lib/python3.7/site-packages/pandas/core/reshape/concat.py\u001b[0m in \u001b[0;36m__init__\u001b[0;34m(self, objs, axis, join, keys, levels, names, ignore_index, verify_integrity, copy, sort)\u001b[0m\n\u001b[1;32m    349\u001b[0m \u001b[0;34m\u001b[0m\u001b[0m\n\u001b[1;32m    350\u001b[0m         \u001b[0;32mif\u001b[0m \u001b[0mlen\u001b[0m\u001b[0;34m(\u001b[0m\u001b[0mobjs\u001b[0m\u001b[0;34m)\u001b[0m \u001b[0;34m==\u001b[0m \u001b[0;36m0\u001b[0m\u001b[0;34m:\u001b[0m\u001b[0;34m\u001b[0m\u001b[0;34m\u001b[0m\u001b[0m\n\u001b[0;32m--> 351\u001b[0;31m             \u001b[0;32mraise\u001b[0m \u001b[0mValueError\u001b[0m\u001b[0;34m(\u001b[0m\u001b[0;34m\"No objects to concatenate\"\u001b[0m\u001b[0;34m)\u001b[0m\u001b[0;34m\u001b[0m\u001b[0;34m\u001b[0m\u001b[0m\n\u001b[0m\u001b[1;32m    352\u001b[0m \u001b[0;34m\u001b[0m\u001b[0m\n\u001b[1;32m    353\u001b[0m         \u001b[0;32mif\u001b[0m \u001b[0mkeys\u001b[0m \u001b[0;32mis\u001b[0m \u001b[0;32mNone\u001b[0m\u001b[0;34m:\u001b[0m\u001b[0;34m\u001b[0m\u001b[0;34m\u001b[0m\u001b[0m\n",
      "\u001b[0;31mValueError\u001b[0m: No objects to concatenate"
     ]
    }
   ],
   "source": [
    "window_size = 50 # 50 datapoints for the window size, which, at 25Hz, means 2 seconds\n",
    "step_size = 25 # this is 50% overlap (step_size=25)\n",
    "\n",
    "X_train_sliding_windows = group_into_sliding_windows(X_train_df,window_size,step_size)\n",
    "X_test_sliding_windows = group_into_sliding_windows(X_test_df,window_size,step_size)"
   ]
  },
  {
   "cell_type": "code",
   "execution_count": 383,
   "metadata": {},
   "outputs": [
    {
     "data": {
      "text/plain": [
       "0         Respeck_s1541031_Climbing stairs_06-10-2021_11...\n",
       "1         Respeck_s1541031_Climbing stairs_06-10-2021_11...\n",
       "2         Respeck_s1541031_Climbing stairs_06-10-2021_11...\n",
       "3         Respeck_s1541031_Climbing stairs_06-10-2021_11...\n",
       "4         Respeck_s1541031_Climbing stairs_06-10-2021_11...\n",
       "                                ...                        \n",
       "932870    xlstry-Respeck_s2254050_Lying down on back_06-...\n",
       "932871    xlstry-Respeck_s2254050_Lying down on back_06-...\n",
       "932872    xlstry-Respeck_s2254050_Lying down on back_06-...\n",
       "932873    xlstry-Respeck_s2254050_Lying down on back_06-...\n",
       "932874    xlstry-Respeck_s2254050_Lying down on back_06-...\n",
       "Name: recording_id, Length: 932875, dtype: object"
      ]
     },
     "execution_count": 383,
     "metadata": {},
     "output_type": "execute_result"
    }
   ],
   "source": [
    "X_train_sliding_windows['recording_id']"
   ]
  },
  {
   "cell_type": "code",
   "execution_count": 316,
   "metadata": {},
   "outputs": [
    {
     "data": {
      "image/png": "[encoded data removed]",
      "text/plain": [
       "<Figure size 1440x432 with 4 Axes>"
      ]
     },
     "metadata": {
      "needs_background": "light"
     },
     "output_type": "display_data"
    }
   ],
   "source": [
    "first_four_windows = [group for _, group in X_train_sliding_windows[X_train_sliding_windows.window_id < 4].groupby(\"window_id\")]\n",
    "\n",
    "fig, ax = plt.subplots(1, 4, figsize=(20, 6))\n",
    "\n",
    "for i in range(4):\n",
    "    ax[i].plot(first_four_windows[i]['gyro_x'])\n",
    "    ax[i].plot(first_four_windows[i]['gyro_y'])\n",
    "    ax[i].plot(first_four_windows[i]['gyro_z'])\n",
    "    ax[i].set_title(f\"Window number = {first_four_windows[i].window_id.values[0]}\")"
   ]
  },
  {
   "cell_type": "markdown",
   "metadata": {},
   "source": [
    "We need to assign a number to each categorical class for the model. It is mainly up to you how you categorise your classes. In this example, we will use the labels:"
   ]
  },
  {
   "cell_type": "code",
   "execution_count": 10,
   "metadata": {},
   "outputs": [
    {
     "name": "stdout",
     "output_type": "stream",
     "text": [
      "{'Climbing stairs': 0, 'Descending stairs': 1, 'Desk work': 2, 'Falling on knees': 3, 'Falling on the back': 4, 'Falling on the left': 5, 'Falling on the right': 6, 'Lying down left': 7, 'Lying down on back': 8, 'Lying down on stomach': 9, 'Lying down right': 10, 'Movement': 11, 'Running': 12, 'Sitting': 13, 'Sitting bent backward': 14, 'Sitting bent forward': 15, 'Standing': 16, 'Walking at normal speed': 17}\n"
     ]
    }
   ],
   "source": [
    "class_labels = {}\n",
    "label_to_activity = {}\n",
    "activities = sorted(base_df.activity_type.unique())\n",
    "\n",
    "for idx, activity in enumerate(activities):\n",
    "    class_labels[activity] = idx\n",
    "    label_to_activity[idx] = activity\n",
    "\n",
    "print(class_labels)"
   ]
  },
  {
   "cell_type": "code",
   "execution_count": 40,
   "metadata": {},
   "outputs": [],
   "source": [
    "\n",
    "# window_id_class_labels = final_sliding_windows.groupby(\"window_id\")[['activity_type']].agg(np.min).replace(class_labels)\n",
    "# window_id_class_labels\n"
   ]
  },
  {
   "cell_type": "markdown",
   "metadata": {},
   "source": [
    "## Leave-one-subject-out cross-validation"
   ]
  },
  {
   "cell_type": "markdown",
   "metadata": {},
   "source": [
    "One of the other reason our previous classifier functions so well is that each person performs activities in a very consistent manner. If a subject's data is both in the training set and the test set, it provides the model with an unfair advantage. Moreover, the results that your model will output will be falsely high. When you test your model on a completely new, unseen subject, your accuracy will drop considerably. \n",
    "\n",
    "This is why when training a HAR model you will want to do a special kind of cross-validation: Leave-One-Subject-Out (LOSOXV), where we leave one (or more) subject(s) in the testing set at each iteration.\n",
    "\n",
    "![losoxv](../Images/LOOCV.png \"losoxv\")\n",
    "\n",
    "This ensures that the results we get from our classifier are consistent to what we would get in real life, if we were to test the model on a new user."
   ]
  },
  {
   "cell_type": "markdown",
   "metadata": {},
   "source": [
    "## Training a simple CNN"
   ]
  },
  {
   "cell_type": "markdown",
   "metadata": {},
   "source": [
    "There are some different preprocessing techniques you can apply when the resulting \"datapoint\" is an input to a convolutional neural network. \n",
    "\n",
    "You can use two types of convolutional layers:\n",
    "* 1D Conv Layers - which will work on 1D data, for example a single axis from one single sensor (accel, gyro or mag)\n",
    "* 2D Conv Layers - suitable if the input data is in the form of an image, for example\n",
    "\n",
    "We will be demonstrating how to build a simple 1D CNN using 6 channels: the 3 axes of the accelerometer and the 3 axes of the gyroscope."
   ]
  },
  {
   "cell_type": "markdown",
   "metadata": {},
   "source": [
    "### Setting up the model"
   ]
  },
  {
   "cell_type": "code",
   "execution_count": null,
   "metadata": {},
   "outputs": [],
   "source": [
    "filters = 64\n",
    "kernel_size = 3\n",
    "n_features = 6\n",
    "activation='relu'\n",
    "n_classes = len(class_labels)\n",
    "print(n_classes)"
   ]
  },
  {
   "cell_type": "markdown",
   "metadata": {},
   "source": [
    "### LSTM"
   ]
  },
  {
   "cell_type": "code",
   "execution_count": 338,
   "metadata": {},
   "outputs": [
    {
     "name": "stdout",
     "output_type": "stream",
     "text": [
      "Model: \"sequential_63\"\n",
      "_________________________________________________________________\n",
      "Layer (type)                 Output Shape              Param #   \n",
      "=================================================================\n",
      "dropout_48 (Dropout)         (None, 25, 6)             0         \n",
      "_________________________________________________________________\n",
      "lstm_53 (LSTM)               (None, 32)                4992      \n",
      "_________________________________________________________________\n",
      "dropout_49 (Dropout)         (None, 32)                0         \n",
      "_________________________________________________________________\n",
      "dense_85 (Dense)             (None, 18)                594       \n",
      "=================================================================\n",
      "Total params: 5,586\n",
      "Trainable params: 5,586\n",
      "Non-trainable params: 0\n",
      "_________________________________________________________________\n"
     ]
    }
   ],
   "source": [
    "from sklearn.preprocessing import MinMaxScaler\n",
    "from sklearn.metrics import mean_squared_error\n",
    "from tensorflow.keras.layers import LSTM\n",
    "\n",
    "timesteps = window_size\n",
    "model = Sequential()\n",
    "model.add(Dropout(0.2, input_shape=(timesteps,n_features))) \n",
    "model.add(LSTM(32))\n",
    "\n",
    "# model.add(LSTM(64, input_shape=(timesteps,n_features)))\n",
    "# Dropout layer\n",
    "model.add(Dropout(0.2)) \n",
    "# Dense layer with ReLu\n",
    "# model.add(Dense(units = 32, activation='relu'))\n",
    "# model.add(Dropout(0.5)) \n",
    "# model.add(Dense(units = 32, activation='relu'))\n",
    "# model.add(Dense(32, activation='relu',input_shape=(timesteps,n_features)))\n",
    "model.add(Dense(n_classes, activation='softmax'))\n",
    "model.summary()\n",
    "\n",
    "\n"
   ]
  },
  {
   "cell_type": "code",
   "execution_count": 339,
   "metadata": {},
   "outputs": [],
   "source": [
    "X_train_regenerated, y_train_regenerated = regenerate_data_from_sliding_windows(X_train_sliding_windows, is_lstm=True)\n",
    "X_test_regenerated, y_test_regenerated = regenerate_data_from_sliding_windows(X_test_sliding_windows,is_lstm=True)\n"
   ]
  },
  {
   "cell_type": "code",
   "execution_count": 340,
   "metadata": {},
   "outputs": [
    {
     "name": "stdout",
     "output_type": "stream",
     "text": [
      "X_train shape = (37315, 25, 6)\n",
      "y_train shape = (37315, 18)\n",
      "X_test shape = (10249, 25, 6)\n",
      "y_test shape = (10249, 18)\n"
     ]
    }
   ],
   "source": [
    "\n",
    "#Convert categorical variable (labels) into dummy/indicator variables (one-hot encoding)\n",
    "y_train = np.asarray(pd.get_dummies(y_train_regenerated), dtype=np.float32)\n",
    "y_test = np.asarray(pd.get_dummies(y_test_regenerated), dtype=np.float32)\n",
    "\n",
    "X_train = np.asarray(X_train_regenerated)\n",
    "X_test = np.asarray(X_test_regenerated)\n",
    "\n",
    "# X_train = np.reshape(X_train_regenerated, (X_train_regenerated.shape[0], 50, X_train_regenerated.shape[1]))\n",
    "# X_test = np.reshape(X_test_regenerated, (X_test_regenerated.shape[0], 50, X_test_regenerated.shape[1]))\n",
    "\n",
    "print(f\"X_train shape = {X_train.shape}\")\n",
    "print(f\"y_train shape = {y_train.shape}\")\n",
    "\n",
    "print(f\"X_test shape = {X_test.shape}\")\n",
    "print(f\"y_test shape = {y_test.shape}\")"
   ]
  },
  {
   "cell_type": "markdown",
   "metadata": {},
   "source": [
    "## CNN"
   ]
  },
  {
   "cell_type": "code",
   "execution_count": 223,
   "metadata": {},
   "outputs": [
    {
     "name": "stdout",
     "output_type": "stream",
     "text": [
      "Model: \"sequential_39\"\n",
      "_________________________________________________________________\n",
      "Layer (type)                 Output Shape              Param #   \n",
      "=================================================================\n",
      "conv1d_15 (Conv1D)           (None, 18, 64)            1216      \n",
      "_________________________________________________________________\n",
      "batch_normalization_11 (Batc (None, 18, 64)            256       \n",
      "_________________________________________________________________\n",
      "activation_11 (Activation)   (None, 18, 64)            0         \n",
      "_________________________________________________________________\n",
      "dropout_27 (Dropout)         (None, 18, 64)            0         \n",
      "_________________________________________________________________\n",
      "conv1d_16 (Conv1D)           (None, 16, 64)            12352     \n",
      "_________________________________________________________________\n",
      "batch_normalization_12 (Batc (None, 16, 64)            256       \n",
      "_________________________________________________________________\n",
      "activation_12 (Activation)   (None, 16, 64)            0         \n",
      "_________________________________________________________________\n",
      "dropout_28 (Dropout)         (None, 16, 64)            0         \n",
      "_________________________________________________________________\n",
      "conv1d_17 (Conv1D)           (None, 14, 64)            12352     \n",
      "_________________________________________________________________\n",
      "batch_normalization_13 (Batc (None, 14, 64)            256       \n",
      "_________________________________________________________________\n",
      "activation_13 (Activation)   (None, 14, 64)            0         \n",
      "_________________________________________________________________\n",
      "dropout_29 (Dropout)         (None, 14, 64)            0         \n",
      "_________________________________________________________________\n",
      "flatten_1 (Flatten)          (None, 896)               0         \n",
      "_________________________________________________________________\n",
      "dense_45 (Dense)             (None, 100)               89700     \n",
      "_________________________________________________________________\n",
      "dense_46 (Dense)             (None, 18)                1818      \n",
      "=================================================================\n",
      "Total params: 118,206\n",
      "Trainable params: 117,822\n",
      "Non-trainable params: 384\n",
      "_________________________________________________________________\n"
     ]
    }
   ],
   "source": [
    "model = Sequential()\n",
    "\n",
    "model.add(Conv1D(filters=filters, kernel_size=kernel_size, activation='linear', \n",
    "                 input_shape=(window_size, n_features)))\n",
    "model.add(BatchNormalization())\n",
    "model.add(Activation(activation))\n",
    "model.add(Dropout(0.3))\n",
    "\n",
    "model.add(Conv1D(filters=filters, kernel_size=kernel_size, activation='linear'))\n",
    "model.add(BatchNormalization())\n",
    "model.add(Activation(activation))\n",
    "model.add(Dropout(0.3))\n",
    "\n",
    "\n",
    "model.add(Conv1D(filters=filters, kernel_size=kernel_size, activation='linear'))\n",
    "model.add(BatchNormalization())\n",
    "model.add(Activation(activation))\n",
    "model.add(Dropout(0.3))\n",
    "\n",
    "model.add(Flatten())\n",
    "model.add(Dense(100, activation='relu'))\n",
    "model.add(Dense(n_classes, activation='softmax'))\n",
    "\n",
    "model.summary()"
   ]
  },
  {
   "cell_type": "markdown",
   "metadata": {},
   "source": [
    "### Re-generating the data in the appropriate format"
   ]
  },
  {
   "cell_type": "markdown",
   "metadata": {},
   "source": [
    "We need to do a bit more work with our data to bring it into a format fit for training a CNN. \n",
    "\n",
    "A CNN will take multi-dimensional arrays as input. We have already specified that the input shape is (window_size, n_features), i.e. (50, 6). "
   ]
  },
  {
   "cell_type": "markdown",
   "metadata": {},
   "source": [
    "Remember that we generated sliding windows before. Now we just need to take the raw values from each window and create a training set. "
   ]
  },
  {
   "cell_type": "code",
   "execution_count": 13,
   "metadata": {},
   "outputs": [
    {
     "data": {
      "text/plain": [
       "['accel_x', 'accel_y', 'accel_z', 'gyro_x', 'gyro_y', 'gyro_z']"
      ]
     },
     "execution_count": 13,
     "metadata": {},
     "output_type": "execute_result"
    }
   ],
   "source": [
    "#Subject id is of interest to us as we will split our dataset by subject_id\n",
    "columns_of_interest_training = ['accel_x', 'accel_y', 'accel_z', 'gyro_x', 'gyro_y', 'gyro_z']\n",
    "columns_of_interest_training"
   ]
  },
  {
   "cell_type": "code",
   "execution_count": 183,
   "metadata": {},
   "outputs": [],
   "source": [
    "def regenerate_data_from_sliding_windows(final_sliding_windows, is_lstm=False):\n",
    "    X= []\n",
    "    y= []\n",
    "\n",
    "    for window_id, group in final_sliding_windows.groupby('window_id'):\n",
    "        \n",
    "#         print(f\"window_id = {window_id}\")\n",
    "\n",
    "        shape = group[columns_of_interest_training].values.shape\n",
    "#         print(f\"shape = {shape}\")\n",
    "        X.append(group[columns_of_interest_training].values )\n",
    "        y.append(class_labels[group[\"activity_type\"].values[0]])\n",
    "    \n",
    "    return X,y\n"
   ]
  },
  {
   "cell_type": "code",
   "execution_count": null,
   "metadata": {},
   "outputs": [],
   "source": [
    "X_train_regenerated, y_train_regenerated = regenerate_data_from_sliding_windows(X_train_sliding_windows)\n",
    "X_test_regenerated, y_test_regenerated = regenerate_data_from_sliding_windows(X_test_sliding_windows)\n"
   ]
  },
  {
   "cell_type": "markdown",
   "metadata": {},
   "source": [
    "We can do a similar test/train split for demonstration purposes. Remember that you will have to split your data by subjects, not radomly."
   ]
  },
  {
   "cell_type": "code",
   "execution_count": 185,
   "metadata": {},
   "outputs": [
    {
     "name": "stdout",
     "output_type": "stream",
     "text": [
      "X_train shape = (37688, 20, 6)\n",
      "y_train shape = (37688, 18)\n",
      "X_test shape = (10366, 20, 6)\n",
      "y_test shape = (10366, 18)\n"
     ]
    }
   ],
   "source": [
    "# #Convert categorical variable (labels) into dummy/indicator variables (one-hot encoding)\n",
    "y_train = np.asarray(pd.get_dummies(y_train_regenerated), dtype=np.float32)\n",
    "y_test = np.asarray(pd.get_dummies(y_test_regenerated), dtype=np.float32)\n",
    "\n",
    "X_train = np.asarray(X_train_regenerated)\n",
    "X_test = np.asarray(X_test_regenerated)\n",
    "\n",
    "print(f\"X_train shape = {X_train.shape}\")\n",
    "print(f\"y_train shape = {y_train.shape}\")\n",
    "\n",
    "print(f\"X_test shape = {X_test.shape}\")\n",
    "print(f\"y_test shape = {y_test.shape}\")"
   ]
  },
  {
   "cell_type": "markdown",
   "metadata": {},
   "source": []
  },
  {
   "cell_type": "markdown",
   "metadata": {},
   "source": [
    "Now we are ready to start the training process"
   ]
  },
  {
   "cell_type": "code",
   "execution_count": 341,
   "metadata": {},
   "outputs": [],
   "source": [
    "callback = tf.keras.callbacks.EarlyStopping(monitor='loss', patience=10)\n",
    "# model.compile(\n",
    "#     optimizer=optimizers.SGD(lr=0.01, momentum=0.9, decay=0.001, nesterov=True),\n",
    "#     loss=\"categorical_crossentropy\",\n",
    "#     metrics = ['accuracy'])\n",
    "model.compile(\n",
    "      optimizer = optimizers.Adam(learning_rate=0.001),\n",
    "          loss=\"categorical_crossentropy\",\n",
    "    metrics = ['accuracy'])"
   ]
  },
  {
   "cell_type": "code",
   "execution_count": 303,
   "metadata": {
    "scrolled": true
   },
   "outputs": [
    {
     "data": {
      "text/plain": [
       "(10224, 25, 6)"
      ]
     },
     "execution_count": 303,
     "metadata": {},
     "output_type": "execute_result"
    }
   ],
   "source": [
    "X_test.shape"
   ]
  },
  {
   "cell_type": "code",
   "execution_count": 304,
   "metadata": {},
   "outputs": [
    {
     "data": {
      "text/plain": [
       "(37315, 25, 6)"
      ]
     },
     "execution_count": 304,
     "metadata": {},
     "output_type": "execute_result"
    }
   ],
   "source": [
    "X_train.shape"
   ]
  },
  {
   "cell_type": "code",
   "execution_count": 342,
   "metadata": {
    "scrolled": true
   },
   "outputs": [
    {
     "name": "stdout",
     "output_type": "stream",
     "text": [
      "Train on 37315 samples, validate on 10249 samples\n",
      "Epoch 1/200\n",
      "37315/37315 [==============================] - 14s 383us/sample - loss: 2.8826 - accuracy: 0.0779 - val_loss: 2.7819 - val_accuracy: 0.1839\n",
      "Epoch 2/200\n",
      "37315/37315 [==============================] - 9s 244us/sample - loss: 2.7789 - accuracy: 0.1643 - val_loss: 2.6640 - val_accuracy: 0.2957\n",
      "Epoch 3/200\n",
      "37315/37315 [==============================] - 9s 238us/sample - loss: 2.6649 - accuracy: 0.2437 - val_loss: 2.5199 - val_accuracy: 0.3215\n",
      "Epoch 4/200\n",
      "37315/37315 [==============================] - 12s 312us/sample - loss: 2.5251 - accuracy: 0.2899 - val_loss: 2.3262 - val_accuracy: 0.3661\n",
      "Epoch 5/200\n",
      "37315/37315 [==============================] - 9s 245us/sample - loss: 2.3542 - accuracy: 0.3189 - val_loss: 2.0988 - val_accuracy: 0.3994\n",
      "Epoch 6/200\n",
      "37315/37315 [==============================] - 9s 254us/sample - loss: 2.1723 - accuracy: 0.3556 - val_loss: 1.8820 - val_accuracy: 0.4435\n",
      "Epoch 7/200\n",
      "37315/37315 [==============================] - 11s 302us/sample - loss: 2.0086 - accuracy: 0.3912 - val_loss: 1.7053 - val_accuracy: 0.4642\n",
      "Epoch 8/200\n",
      "37315/37315 [==============================] - 17s 458us/sample - loss: 1.8769 - accuracy: 0.4186 - val_loss: 1.5648 - val_accuracy: 0.5226\n",
      "Epoch 9/200\n",
      "37315/37315 [==============================] - 14s 383us/sample - loss: 1.7653 - accuracy: 0.4549 - val_loss: 1.4649 - val_accuracy: 0.5402\n",
      "Epoch 10/200\n",
      "37315/37315 [==============================] - 18s 471us/sample - loss: 1.6829 - accuracy: 0.4668 - val_loss: 1.3880 - val_accuracy: 0.5472\n",
      "Epoch 11/200\n",
      "37315/37315 [==============================] - 15s 405us/sample - loss: 1.6135 - accuracy: 0.4762 - val_loss: 1.3352 - val_accuracy: 0.5467\n",
      "Epoch 12/200\n",
      "37315/37315 [==============================] - 19s 508us/sample - loss: 1.5614 - accuracy: 0.4793 - val_loss: 1.3024 - val_accuracy: 0.5514\n",
      "Epoch 13/200\n",
      "37315/37315 [==============================] - 14s 367us/sample - loss: 1.5138 - accuracy: 0.4845 - val_loss: 1.2734 - val_accuracy: 0.5521\n",
      "Epoch 14/200\n",
      "37315/37315 [==============================] - 10s 275us/sample - loss: 1.4756 - accuracy: 0.4880 - val_loss: 1.2535 - val_accuracy: 0.5562\n",
      "Epoch 15/200\n",
      "37315/37315 [==============================] - 9s 248us/sample - loss: 1.4390 - accuracy: 0.5004 - val_loss: 1.2403 - val_accuracy: 0.5536\n",
      "Epoch 16/200\n",
      "37315/37315 [==============================] - 9s 241us/sample - loss: 1.4119 - accuracy: 0.5024 - val_loss: 1.2247 - val_accuracy: 0.5563\n",
      "Epoch 17/200\n",
      "37315/37315 [==============================] - 9s 246us/sample - loss: 1.3898 - accuracy: 0.5083 - val_loss: 1.2156 - val_accuracy: 0.5560\n",
      "Epoch 18/200\n",
      "37315/37315 [==============================] - 9s 243us/sample - loss: 1.3667 - accuracy: 0.5139 - val_loss: 1.2076 - val_accuracy: 0.5551\n",
      "Epoch 19/200\n",
      "37315/37315 [==============================] - 9s 235us/sample - loss: 1.3447 - accuracy: 0.5215 - val_loss: 1.1964 - val_accuracy: 0.5702\n",
      "Epoch 20/200\n",
      "37315/37315 [==============================] - 9s 245us/sample - loss: 1.3248 - accuracy: 0.5269 - val_loss: 1.1831 - val_accuracy: 0.5751\n",
      "Epoch 21/200\n",
      "37315/37315 [==============================] - 10s 260us/sample - loss: 1.3022 - accuracy: 0.5346 - val_loss: 1.1685 - val_accuracy: 0.5841\n",
      "Epoch 22/200\n",
      "37315/37315 [==============================] - 10s 265us/sample - loss: 1.2838 - accuracy: 0.5386 - val_loss: 1.1732 - val_accuracy: 0.5772\n",
      "Epoch 23/200\n",
      "37315/37315 [==============================] - 10s 261us/sample - loss: 1.2679 - accuracy: 0.5452 - val_loss: 1.1670 - val_accuracy: 0.5825\n",
      "Epoch 24/200\n",
      "37315/37315 [==============================] - 10s 263us/sample - loss: 1.2513 - accuracy: 0.5531 - val_loss: 1.1672 - val_accuracy: 0.5844\n",
      "Epoch 25/200\n",
      "37315/37315 [==============================] - 9s 254us/sample - loss: 1.2300 - accuracy: 0.5597 - val_loss: 1.1533 - val_accuracy: 0.5910\n",
      "Epoch 26/200\n",
      "37315/37315 [==============================] - 9s 248us/sample - loss: 1.2109 - accuracy: 0.5680 - val_loss: 1.1400 - val_accuracy: 0.5996\n",
      "Epoch 27/200\n",
      "37315/37315 [==============================] - 10s 260us/sample - loss: 1.1977 - accuracy: 0.5701 - val_loss: 1.1364 - val_accuracy: 0.5997\n",
      "Epoch 28/200\n",
      "37315/37315 [==============================] - 9s 246us/sample - loss: 1.1831 - accuracy: 0.5774 - val_loss: 1.1226 - val_accuracy: 0.6042\n",
      "Epoch 29/200\n",
      "37315/37315 [==============================] - 12s 315us/sample - loss: 1.1614 - accuracy: 0.5854 - val_loss: 1.1027 - val_accuracy: 0.6099\n",
      "Epoch 30/200\n",
      "37315/37315 [==============================] - 13s 361us/sample - loss: 1.1489 - accuracy: 0.5887 - val_loss: 1.1016 - val_accuracy: 0.6117\n",
      "Epoch 31/200\n",
      "37315/37315 [==============================] - 13s 340us/sample - loss: 1.1325 - accuracy: 0.5978 - val_loss: 1.0870 - val_accuracy: 0.6148\n",
      "Epoch 32/200\n",
      "37315/37315 [==============================] - 15s 397us/sample - loss: 1.1208 - accuracy: 0.5983 - val_loss: 1.0870 - val_accuracy: 0.6098\n",
      "Epoch 33/200\n",
      "37315/37315 [==============================] - 11s 288us/sample - loss: 1.1083 - accuracy: 0.6012 - val_loss: 1.0879 - val_accuracy: 0.6115\n",
      "Epoch 34/200\n",
      "37315/37315 [==============================] - 9s 242us/sample - loss: 1.0961 - accuracy: 0.6029 - val_loss: 1.0673 - val_accuracy: 0.6171\n",
      "Epoch 35/200\n",
      "37315/37315 [==============================] - 9s 236us/sample - loss: 1.0852 - accuracy: 0.6108 - val_loss: 1.0625 - val_accuracy: 0.6222\n",
      "Epoch 36/200\n",
      "37315/37315 [==============================] - 9s 237us/sample - loss: 1.0686 - accuracy: 0.6127 - val_loss: 1.0654 - val_accuracy: 0.6169\n",
      "Epoch 37/200\n",
      "37315/37315 [==============================] - 9s 239us/sample - loss: 1.0563 - accuracy: 0.6175 - val_loss: 1.0609 - val_accuracy: 0.6134\n",
      "Epoch 38/200\n",
      "37315/37315 [==============================] - 9s 237us/sample - loss: 1.0482 - accuracy: 0.6183 - val_loss: 1.0601 - val_accuracy: 0.6118\n",
      "Epoch 39/200\n",
      "37315/37315 [==============================] - 9s 237us/sample - loss: 1.0392 - accuracy: 0.6207 - val_loss: 1.0617 - val_accuracy: 0.6110\n",
      "Epoch 40/200\n",
      "37315/37315 [==============================] - 9s 247us/sample - loss: 1.0352 - accuracy: 0.6258 - val_loss: 1.0491 - val_accuracy: 0.6105\n",
      "Epoch 41/200\n",
      "37315/37315 [==============================] - 9s 243us/sample - loss: 1.0179 - accuracy: 0.6309 - val_loss: 1.0523 - val_accuracy: 0.6029\n",
      "Epoch 42/200\n",
      "37315/37315 [==============================] - 9s 240us/sample - loss: 1.0139 - accuracy: 0.6325 - val_loss: 1.0430 - val_accuracy: 0.6091\n",
      "Epoch 43/200\n",
      "37315/37315 [==============================] - 9s 235us/sample - loss: 1.0062 - accuracy: 0.6348 - val_loss: 1.0472 - val_accuracy: 0.6122\n",
      "Epoch 44/200\n",
      "37315/37315 [==============================] - 9s 237us/sample - loss: 0.9989 - accuracy: 0.6387 - val_loss: 1.0396 - val_accuracy: 0.6176\n",
      "Epoch 45/200\n",
      "37315/37315 [==============================] - 9s 235us/sample - loss: 0.9861 - accuracy: 0.6431 - val_loss: 1.0472 - val_accuracy: 0.6119\n",
      "Epoch 46/200\n",
      "37315/37315 [==============================] - 9s 240us/sample - loss: 0.9811 - accuracy: 0.6425 - val_loss: 1.0341 - val_accuracy: 0.6136\n",
      "Epoch 47/200\n",
      "37315/37315 [==============================] - 9s 234us/sample - loss: 0.9761 - accuracy: 0.6471 - val_loss: 1.0486 - val_accuracy: 0.6057\n",
      "Epoch 48/200\n",
      "37315/37315 [==============================] - 9s 236us/sample - loss: 0.9735 - accuracy: 0.6452 - val_loss: 1.0257 - val_accuracy: 0.6154\n",
      "Epoch 49/200\n",
      "37315/37315 [==============================] - 9s 238us/sample - loss: 0.9626 - accuracy: 0.6491 - val_loss: 1.0395 - val_accuracy: 0.6103\n",
      "Epoch 50/200\n",
      "37315/37315 [==============================] - 9s 235us/sample - loss: 0.9570 - accuracy: 0.6492 - val_loss: 1.0323 - val_accuracy: 0.6184\n",
      "Epoch 51/200\n",
      "37315/37315 [==============================] - 9s 236us/sample - loss: 0.9462 - accuracy: 0.6549 - val_loss: 1.0301 - val_accuracy: 0.6145\n",
      "Epoch 52/200\n",
      "37315/37315 [==============================] - 9s 239us/sample - loss: 0.9419 - accuracy: 0.6559 - val_loss: 1.0316 - val_accuracy: 0.6130\n",
      "Epoch 53/200\n",
      "37315/37315 [==============================] - 9s 235us/sample - loss: 0.9401 - accuracy: 0.6577 - val_loss: 1.0348 - val_accuracy: 0.6112\n",
      "Epoch 54/200\n"
     ]
    },
    {
     "name": "stdout",
     "output_type": "stream",
     "text": [
      "37315/37315 [==============================] - 10s 276us/sample - loss: 0.9303 - accuracy: 0.6620 - val_loss: 1.0185 - val_accuracy: 0.6152\n",
      "Epoch 55/200\n",
      "37315/37315 [==============================] - 9s 242us/sample - loss: 0.9261 - accuracy: 0.6571 - val_loss: 1.0209 - val_accuracy: 0.6152\n",
      "Epoch 56/200\n",
      "37315/37315 [==============================] - 11s 288us/sample - loss: 0.9184 - accuracy: 0.6631 - val_loss: 1.0220 - val_accuracy: 0.6175\n",
      "Epoch 57/200\n",
      "37315/37315 [==============================] - 9s 240us/sample - loss: 0.9100 - accuracy: 0.6657 - val_loss: 1.0273 - val_accuracy: 0.6178\n",
      "Epoch 58/200\n",
      "37315/37315 [==============================] - 9s 241us/sample - loss: 0.9111 - accuracy: 0.6656 - val_loss: 1.0209 - val_accuracy: 0.6181\n",
      "Epoch 59/200\n",
      "37315/37315 [==============================] - 9s 236us/sample - loss: 0.9014 - accuracy: 0.6686 - val_loss: 1.0273 - val_accuracy: 0.6169\n",
      "Epoch 60/200\n",
      "37315/37315 [==============================] - 9s 243us/sample - loss: 0.8994 - accuracy: 0.6677 - val_loss: 1.0181 - val_accuracy: 0.6156\n",
      "Epoch 61/200\n",
      "37315/37315 [==============================] - 9s 237us/sample - loss: 0.8918 - accuracy: 0.6712 - val_loss: 1.0190 - val_accuracy: 0.6195\n",
      "Epoch 62/200\n",
      "37315/37315 [==============================] - 9s 238us/sample - loss: 0.8872 - accuracy: 0.6714 - val_loss: 1.0200 - val_accuracy: 0.6166\n",
      "Epoch 63/200\n",
      "37315/37315 [==============================] - 9s 234us/sample - loss: 0.8831 - accuracy: 0.6750 - val_loss: 1.0117 - val_accuracy: 0.6168\n",
      "Epoch 64/200\n",
      "37315/37315 [==============================] - 9s 237us/sample - loss: 0.8767 - accuracy: 0.6753 - val_loss: 1.0107 - val_accuracy: 0.6168\n",
      "Epoch 65/200\n",
      "37315/37315 [==============================] - 9s 235us/sample - loss: 0.8747 - accuracy: 0.6747 - val_loss: 0.9921 - val_accuracy: 0.6204\n",
      "Epoch 66/200\n",
      "37315/37315 [==============================] - 9s 237us/sample - loss: 0.8713 - accuracy: 0.6757 - val_loss: 1.0138 - val_accuracy: 0.6131\n",
      "Epoch 67/200\n",
      "37315/37315 [==============================] - 9s 242us/sample - loss: 0.8677 - accuracy: 0.6764 - val_loss: 1.0097 - val_accuracy: 0.6131\n",
      "Epoch 68/200\n",
      "37315/37315 [==============================] - 9s 239us/sample - loss: 0.8660 - accuracy: 0.6785 - val_loss: 1.0164 - val_accuracy: 0.6155\n",
      "Epoch 69/200\n",
      "37315/37315 [==============================] - 9s 237us/sample - loss: 0.8600 - accuracy: 0.6787 - val_loss: 1.0153 - val_accuracy: 0.6129\n",
      "Epoch 70/200\n",
      "37315/37315 [==============================] - 9s 237us/sample - loss: 0.8545 - accuracy: 0.6809 - val_loss: 1.0181 - val_accuracy: 0.6097\n",
      "Epoch 71/200\n",
      "37315/37315 [==============================] - 9s 235us/sample - loss: 0.8517 - accuracy: 0.6838 - val_loss: 1.0128 - val_accuracy: 0.6113\n",
      "Epoch 72/200\n",
      "37315/37315 [==============================] - 9s 237us/sample - loss: 0.8447 - accuracy: 0.6855 - val_loss: 1.0126 - val_accuracy: 0.6154\n",
      "Epoch 73/200\n",
      "37315/37315 [==============================] - 9s 237us/sample - loss: 0.8376 - accuracy: 0.6884 - val_loss: 1.0105 - val_accuracy: 0.6094\n",
      "Epoch 74/200\n",
      "37315/37315 [==============================] - 9s 236us/sample - loss: 0.8379 - accuracy: 0.6862 - val_loss: 1.0148 - val_accuracy: 0.6098\n",
      "Epoch 75/200\n",
      "37315/37315 [==============================] - 9s 240us/sample - loss: 0.8333 - accuracy: 0.6892 - val_loss: 1.0162 - val_accuracy: 0.6058\n",
      "Epoch 76/200\n",
      "37315/37315 [==============================] - 9s 236us/sample - loss: 0.8282 - accuracy: 0.6921 - val_loss: 1.0095 - val_accuracy: 0.6117\n",
      "Epoch 77/200\n",
      "37315/37315 [==============================] - 9s 235us/sample - loss: 0.8226 - accuracy: 0.6918 - val_loss: 1.0242 - val_accuracy: 0.6093\n",
      "Epoch 78/200\n",
      "37315/37315 [==============================] - 9s 236us/sample - loss: 0.8220 - accuracy: 0.6930 - val_loss: 1.0248 - val_accuracy: 0.6069\n",
      "Epoch 79/200\n",
      "37315/37315 [==============================] - 9s 237us/sample - loss: 0.8140 - accuracy: 0.6951 - val_loss: 1.0133 - val_accuracy: 0.6105\n",
      "Epoch 80/200\n",
      "37315/37315 [==============================] - 9s 234us/sample - loss: 0.8145 - accuracy: 0.6974 - val_loss: 1.0098 - val_accuracy: 0.6094\n",
      "Epoch 81/200\n",
      "37315/37315 [==============================] - 9s 243us/sample - loss: 0.8108 - accuracy: 0.6943 - val_loss: 1.0221 - val_accuracy: 0.6102\n",
      "Epoch 82/200\n",
      "37315/37315 [==============================] - 9s 235us/sample - loss: 0.8068 - accuracy: 0.6964 - val_loss: 1.0149 - val_accuracy: 0.6099\n",
      "Epoch 83/200\n",
      "37315/37315 [==============================] - 9s 236us/sample - loss: 0.8046 - accuracy: 0.6971 - val_loss: 1.0193 - val_accuracy: 0.6098\n",
      "Epoch 84/200\n",
      "37315/37315 [==============================] - 9s 238us/sample - loss: 0.8015 - accuracy: 0.7005 - val_loss: 1.0034 - val_accuracy: 0.6175\n",
      "Epoch 85/200\n",
      "32384/37315 [=========================>....] - ETA: 1s - loss: 0.7947 - accuracy: 0.7033"
     ]
    },
    {
     "ename": "KeyboardInterrupt",
     "evalue": "",
     "output_type": "error",
     "traceback": [
      "\u001b[0;31m---------------------------------------------------------------------------\u001b[0m",
      "\u001b[0;31mKeyboardInterrupt\u001b[0m                         Traceback (most recent call last)",
      "\u001b[0;32m<ipython-input-342-c5fe02835304>\u001b[0m in \u001b[0;36m<module>\u001b[0;34m\u001b[0m\n\u001b[1;32m      1\u001b[0m model.fit(X_train, y_train,\n\u001b[1;32m      2\u001b[0m         \u001b[0mbatch_size\u001b[0m\u001b[0;34m=\u001b[0m\u001b[0;36m4048\u001b[0m\u001b[0;34m,\u001b[0m \u001b[0mepochs\u001b[0m\u001b[0;34m=\u001b[0m\u001b[0;36m200\u001b[0m\u001b[0;34m,\u001b[0m \u001b[0mcallbacks\u001b[0m\u001b[0;34m=\u001b[0m\u001b[0;34m[\u001b[0m\u001b[0mcallback\u001b[0m\u001b[0;34m]\u001b[0m\u001b[0;34m,\u001b[0m\u001b[0;34m\u001b[0m\u001b[0;34m\u001b[0m\u001b[0m\n\u001b[0;32m----> 3\u001b[0;31m         \u001b[0mvalidation_data\u001b[0m\u001b[0;34m=\u001b[0m\u001b[0;34m(\u001b[0m\u001b[0mX_test\u001b[0m\u001b[0;34m,\u001b[0m \u001b[0my_test\u001b[0m\u001b[0;34m)\u001b[0m\u001b[0;34m,\u001b[0m\u001b[0;34m\u001b[0m\u001b[0;34m\u001b[0m\u001b[0m\n\u001b[0m\u001b[1;32m      4\u001b[0m )\n",
      "\u001b[0;32m~/miniconda3/envs/pdiot/lib/python3.7/site-packages/tensorflow_core/python/keras/engine/training.py\u001b[0m in \u001b[0;36mfit\u001b[0;34m(self, x, y, batch_size, epochs, verbose, callbacks, validation_split, validation_data, shuffle, class_weight, sample_weight, initial_epoch, steps_per_epoch, validation_steps, validation_freq, max_queue_size, workers, use_multiprocessing, **kwargs)\u001b[0m\n\u001b[1;32m    726\u001b[0m         \u001b[0mmax_queue_size\u001b[0m\u001b[0;34m=\u001b[0m\u001b[0mmax_queue_size\u001b[0m\u001b[0;34m,\u001b[0m\u001b[0;34m\u001b[0m\u001b[0;34m\u001b[0m\u001b[0m\n\u001b[1;32m    727\u001b[0m         \u001b[0mworkers\u001b[0m\u001b[0;34m=\u001b[0m\u001b[0mworkers\u001b[0m\u001b[0;34m,\u001b[0m\u001b[0;34m\u001b[0m\u001b[0;34m\u001b[0m\u001b[0m\n\u001b[0;32m--> 728\u001b[0;31m         use_multiprocessing=use_multiprocessing)\n\u001b[0m\u001b[1;32m    729\u001b[0m \u001b[0;34m\u001b[0m\u001b[0m\n\u001b[1;32m    730\u001b[0m   def evaluate(self,\n",
      "\u001b[0;32m~/miniconda3/envs/pdiot/lib/python3.7/site-packages/tensorflow_core/python/keras/engine/training_v2.py\u001b[0m in \u001b[0;36mfit\u001b[0;34m(self, model, x, y, batch_size, epochs, verbose, callbacks, validation_split, validation_data, shuffle, class_weight, sample_weight, initial_epoch, steps_per_epoch, validation_steps, validation_freq, **kwargs)\u001b[0m\n\u001b[1;32m    322\u001b[0m                 \u001b[0mmode\u001b[0m\u001b[0;34m=\u001b[0m\u001b[0mModeKeys\u001b[0m\u001b[0;34m.\u001b[0m\u001b[0mTRAIN\u001b[0m\u001b[0;34m,\u001b[0m\u001b[0;34m\u001b[0m\u001b[0;34m\u001b[0m\u001b[0m\n\u001b[1;32m    323\u001b[0m                 \u001b[0mtraining_context\u001b[0m\u001b[0;34m=\u001b[0m\u001b[0mtraining_context\u001b[0m\u001b[0;34m,\u001b[0m\u001b[0;34m\u001b[0m\u001b[0;34m\u001b[0m\u001b[0m\n\u001b[0;32m--> 324\u001b[0;31m                 total_epochs=epochs)\n\u001b[0m\u001b[1;32m    325\u001b[0m             \u001b[0mcbks\u001b[0m\u001b[0;34m.\u001b[0m\u001b[0mmake_logs\u001b[0m\u001b[0;34m(\u001b[0m\u001b[0mmodel\u001b[0m\u001b[0;34m,\u001b[0m \u001b[0mepoch_logs\u001b[0m\u001b[0;34m,\u001b[0m \u001b[0mtraining_result\u001b[0m\u001b[0;34m,\u001b[0m \u001b[0mModeKeys\u001b[0m\u001b[0;34m.\u001b[0m\u001b[0mTRAIN\u001b[0m\u001b[0;34m)\u001b[0m\u001b[0;34m\u001b[0m\u001b[0;34m\u001b[0m\u001b[0m\n\u001b[1;32m    326\u001b[0m \u001b[0;34m\u001b[0m\u001b[0m\n",
      "\u001b[0;32m~/miniconda3/envs/pdiot/lib/python3.7/site-packages/tensorflow_core/python/keras/engine/training_v2.py\u001b[0m in \u001b[0;36mrun_one_epoch\u001b[0;34m(model, iterator, execution_function, dataset_size, batch_size, strategy, steps_per_epoch, num_samples, mode, training_context, total_epochs)\u001b[0m\n\u001b[1;32m    121\u001b[0m         step=step, mode=mode, size=current_batch_size) as batch_logs:\n\u001b[1;32m    122\u001b[0m       \u001b[0;32mtry\u001b[0m\u001b[0;34m:\u001b[0m\u001b[0;34m\u001b[0m\u001b[0;34m\u001b[0m\u001b[0m\n\u001b[0;32m--> 123\u001b[0;31m         \u001b[0mbatch_outs\u001b[0m \u001b[0;34m=\u001b[0m \u001b[0mexecution_function\u001b[0m\u001b[0;34m(\u001b[0m\u001b[0miterator\u001b[0m\u001b[0;34m)\u001b[0m\u001b[0;34m\u001b[0m\u001b[0;34m\u001b[0m\u001b[0m\n\u001b[0m\u001b[1;32m    124\u001b[0m       \u001b[0;32mexcept\u001b[0m \u001b[0;34m(\u001b[0m\u001b[0mStopIteration\u001b[0m\u001b[0;34m,\u001b[0m \u001b[0merrors\u001b[0m\u001b[0;34m.\u001b[0m\u001b[0mOutOfRangeError\u001b[0m\u001b[0;34m)\u001b[0m\u001b[0;34m:\u001b[0m\u001b[0;34m\u001b[0m\u001b[0;34m\u001b[0m\u001b[0m\n\u001b[1;32m    125\u001b[0m         \u001b[0;31m# TODO(kaftan): File bug about tf function and errors.OutOfRangeError?\u001b[0m\u001b[0;34m\u001b[0m\u001b[0;34m\u001b[0m\u001b[0;34m\u001b[0m\u001b[0m\n",
      "\u001b[0;32m~/miniconda3/envs/pdiot/lib/python3.7/site-packages/tensorflow_core/python/keras/engine/training_v2_utils.py\u001b[0m in \u001b[0;36mexecution_function\u001b[0;34m(input_fn)\u001b[0m\n\u001b[1;32m     84\u001b[0m     \u001b[0;31m# `numpy` translates Tensors to values in Eager mode.\u001b[0m\u001b[0;34m\u001b[0m\u001b[0;34m\u001b[0m\u001b[0;34m\u001b[0m\u001b[0m\n\u001b[1;32m     85\u001b[0m     return nest.map_structure(_non_none_constant_value,\n\u001b[0;32m---> 86\u001b[0;31m                               distributed_function(input_fn))\n\u001b[0m\u001b[1;32m     87\u001b[0m \u001b[0;34m\u001b[0m\u001b[0m\n\u001b[1;32m     88\u001b[0m   \u001b[0;32mreturn\u001b[0m \u001b[0mexecution_function\u001b[0m\u001b[0;34m\u001b[0m\u001b[0;34m\u001b[0m\u001b[0m\n",
      "\u001b[0;32m~/miniconda3/envs/pdiot/lib/python3.7/site-packages/tensorflow_core/python/eager/def_function.py\u001b[0m in \u001b[0;36m__call__\u001b[0;34m(self, *args, **kwds)\u001b[0m\n\u001b[1;32m    455\u001b[0m \u001b[0;34m\u001b[0m\u001b[0m\n\u001b[1;32m    456\u001b[0m     \u001b[0mtracing_count\u001b[0m \u001b[0;34m=\u001b[0m \u001b[0mself\u001b[0m\u001b[0;34m.\u001b[0m\u001b[0m_get_tracing_count\u001b[0m\u001b[0;34m(\u001b[0m\u001b[0;34m)\u001b[0m\u001b[0;34m\u001b[0m\u001b[0;34m\u001b[0m\u001b[0m\n\u001b[0;32m--> 457\u001b[0;31m     \u001b[0mresult\u001b[0m \u001b[0;34m=\u001b[0m \u001b[0mself\u001b[0m\u001b[0;34m.\u001b[0m\u001b[0m_call\u001b[0m\u001b[0;34m(\u001b[0m\u001b[0;34m*\u001b[0m\u001b[0margs\u001b[0m\u001b[0;34m,\u001b[0m \u001b[0;34m**\u001b[0m\u001b[0mkwds\u001b[0m\u001b[0;34m)\u001b[0m\u001b[0;34m\u001b[0m\u001b[0;34m\u001b[0m\u001b[0m\n\u001b[0m\u001b[1;32m    458\u001b[0m     \u001b[0;32mif\u001b[0m \u001b[0mtracing_count\u001b[0m \u001b[0;34m==\u001b[0m \u001b[0mself\u001b[0m\u001b[0;34m.\u001b[0m\u001b[0m_get_tracing_count\u001b[0m\u001b[0;34m(\u001b[0m\u001b[0;34m)\u001b[0m\u001b[0;34m:\u001b[0m\u001b[0;34m\u001b[0m\u001b[0;34m\u001b[0m\u001b[0m\n\u001b[1;32m    459\u001b[0m       \u001b[0mself\u001b[0m\u001b[0;34m.\u001b[0m\u001b[0m_call_counter\u001b[0m\u001b[0;34m.\u001b[0m\u001b[0mcalled_without_tracing\u001b[0m\u001b[0;34m(\u001b[0m\u001b[0;34m)\u001b[0m\u001b[0;34m\u001b[0m\u001b[0;34m\u001b[0m\u001b[0m\n",
      "\u001b[0;32m~/miniconda3/envs/pdiot/lib/python3.7/site-packages/tensorflow_core/python/eager/def_function.py\u001b[0m in \u001b[0;36m_call\u001b[0;34m(self, *args, **kwds)\u001b[0m\n\u001b[1;32m    485\u001b[0m       \u001b[0;31m# In this case we have created variables on the first call, so we run the\u001b[0m\u001b[0;34m\u001b[0m\u001b[0;34m\u001b[0m\u001b[0;34m\u001b[0m\u001b[0m\n\u001b[1;32m    486\u001b[0m       \u001b[0;31m# defunned version which is guaranteed to never create variables.\u001b[0m\u001b[0;34m\u001b[0m\u001b[0;34m\u001b[0m\u001b[0;34m\u001b[0m\u001b[0m\n\u001b[0;32m--> 487\u001b[0;31m       \u001b[0;32mreturn\u001b[0m \u001b[0mself\u001b[0m\u001b[0;34m.\u001b[0m\u001b[0m_stateless_fn\u001b[0m\u001b[0;34m(\u001b[0m\u001b[0;34m*\u001b[0m\u001b[0margs\u001b[0m\u001b[0;34m,\u001b[0m \u001b[0;34m**\u001b[0m\u001b[0mkwds\u001b[0m\u001b[0;34m)\u001b[0m  \u001b[0;31m# pylint: disable=not-callable\u001b[0m\u001b[0;34m\u001b[0m\u001b[0;34m\u001b[0m\u001b[0m\n\u001b[0m\u001b[1;32m    488\u001b[0m     \u001b[0;32melif\u001b[0m \u001b[0mself\u001b[0m\u001b[0;34m.\u001b[0m\u001b[0m_stateful_fn\u001b[0m \u001b[0;32mis\u001b[0m \u001b[0;32mnot\u001b[0m \u001b[0;32mNone\u001b[0m\u001b[0;34m:\u001b[0m\u001b[0;34m\u001b[0m\u001b[0;34m\u001b[0m\u001b[0m\n\u001b[1;32m    489\u001b[0m       \u001b[0;31m# Release the lock early so that multiple threads can perform the call\u001b[0m\u001b[0;34m\u001b[0m\u001b[0;34m\u001b[0m\u001b[0;34m\u001b[0m\u001b[0m\n",
      "\u001b[0;32m~/miniconda3/envs/pdiot/lib/python3.7/site-packages/tensorflow_core/python/eager/function.py\u001b[0m in \u001b[0;36m__call__\u001b[0;34m(self, *args, **kwargs)\u001b[0m\n\u001b[1;32m   1821\u001b[0m     \u001b[0;34m\"\"\"Calls a graph function specialized to the inputs.\"\"\"\u001b[0m\u001b[0;34m\u001b[0m\u001b[0;34m\u001b[0m\u001b[0m\n\u001b[1;32m   1822\u001b[0m     \u001b[0mgraph_function\u001b[0m\u001b[0;34m,\u001b[0m \u001b[0margs\u001b[0m\u001b[0;34m,\u001b[0m \u001b[0mkwargs\u001b[0m \u001b[0;34m=\u001b[0m \u001b[0mself\u001b[0m\u001b[0;34m.\u001b[0m\u001b[0m_maybe_define_function\u001b[0m\u001b[0;34m(\u001b[0m\u001b[0margs\u001b[0m\u001b[0;34m,\u001b[0m \u001b[0mkwargs\u001b[0m\u001b[0;34m)\u001b[0m\u001b[0;34m\u001b[0m\u001b[0;34m\u001b[0m\u001b[0m\n\u001b[0;32m-> 1823\u001b[0;31m     \u001b[0;32mreturn\u001b[0m \u001b[0mgraph_function\u001b[0m\u001b[0;34m.\u001b[0m\u001b[0m_filtered_call\u001b[0m\u001b[0;34m(\u001b[0m\u001b[0margs\u001b[0m\u001b[0;34m,\u001b[0m \u001b[0mkwargs\u001b[0m\u001b[0;34m)\u001b[0m  \u001b[0;31m# pylint: disable=protected-access\u001b[0m\u001b[0;34m\u001b[0m\u001b[0;34m\u001b[0m\u001b[0m\n\u001b[0m\u001b[1;32m   1824\u001b[0m \u001b[0;34m\u001b[0m\u001b[0m\n\u001b[1;32m   1825\u001b[0m   \u001b[0;34m@\u001b[0m\u001b[0mproperty\u001b[0m\u001b[0;34m\u001b[0m\u001b[0;34m\u001b[0m\u001b[0m\n",
      "\u001b[0;32m~/miniconda3/envs/pdiot/lib/python3.7/site-packages/tensorflow_core/python/eager/function.py\u001b[0m in \u001b[0;36m_filtered_call\u001b[0;34m(self, args, kwargs)\u001b[0m\n\u001b[1;32m   1139\u001b[0m          if isinstance(t, (ops.Tensor,\n\u001b[1;32m   1140\u001b[0m                            resource_variable_ops.BaseResourceVariable))),\n\u001b[0;32m-> 1141\u001b[0;31m         self.captured_inputs)\n\u001b[0m\u001b[1;32m   1142\u001b[0m \u001b[0;34m\u001b[0m\u001b[0m\n\u001b[1;32m   1143\u001b[0m   \u001b[0;32mdef\u001b[0m \u001b[0m_call_flat\u001b[0m\u001b[0;34m(\u001b[0m\u001b[0mself\u001b[0m\u001b[0;34m,\u001b[0m \u001b[0margs\u001b[0m\u001b[0;34m,\u001b[0m \u001b[0mcaptured_inputs\u001b[0m\u001b[0;34m,\u001b[0m \u001b[0mcancellation_manager\u001b[0m\u001b[0;34m=\u001b[0m\u001b[0;32mNone\u001b[0m\u001b[0;34m)\u001b[0m\u001b[0;34m:\u001b[0m\u001b[0;34m\u001b[0m\u001b[0;34m\u001b[0m\u001b[0m\n",
      "\u001b[0;32m~/miniconda3/envs/pdiot/lib/python3.7/site-packages/tensorflow_core/python/eager/function.py\u001b[0m in \u001b[0;36m_call_flat\u001b[0;34m(self, args, captured_inputs, cancellation_manager)\u001b[0m\n\u001b[1;32m   1222\u001b[0m     \u001b[0;32mif\u001b[0m \u001b[0mexecuting_eagerly\u001b[0m\u001b[0;34m:\u001b[0m\u001b[0;34m\u001b[0m\u001b[0;34m\u001b[0m\u001b[0m\n\u001b[1;32m   1223\u001b[0m       flat_outputs = forward_function.call(\n\u001b[0;32m-> 1224\u001b[0;31m           ctx, args, cancellation_manager=cancellation_manager)\n\u001b[0m\u001b[1;32m   1225\u001b[0m     \u001b[0;32melse\u001b[0m\u001b[0;34m:\u001b[0m\u001b[0;34m\u001b[0m\u001b[0;34m\u001b[0m\u001b[0m\n\u001b[1;32m   1226\u001b[0m       \u001b[0mgradient_name\u001b[0m \u001b[0;34m=\u001b[0m \u001b[0mself\u001b[0m\u001b[0;34m.\u001b[0m\u001b[0m_delayed_rewrite_functions\u001b[0m\u001b[0;34m.\u001b[0m\u001b[0mregister\u001b[0m\u001b[0;34m(\u001b[0m\u001b[0;34m)\u001b[0m\u001b[0;34m\u001b[0m\u001b[0;34m\u001b[0m\u001b[0m\n",
      "\u001b[0;32m~/miniconda3/envs/pdiot/lib/python3.7/site-packages/tensorflow_core/python/eager/function.py\u001b[0m in \u001b[0;36mcall\u001b[0;34m(self, ctx, args, cancellation_manager)\u001b[0m\n\u001b[1;32m    509\u001b[0m               \u001b[0minputs\u001b[0m\u001b[0;34m=\u001b[0m\u001b[0margs\u001b[0m\u001b[0;34m,\u001b[0m\u001b[0;34m\u001b[0m\u001b[0;34m\u001b[0m\u001b[0m\n\u001b[1;32m    510\u001b[0m               \u001b[0mattrs\u001b[0m\u001b[0;34m=\u001b[0m\u001b[0;34m(\u001b[0m\u001b[0;34m\"executor_type\"\u001b[0m\u001b[0;34m,\u001b[0m \u001b[0mexecutor_type\u001b[0m\u001b[0;34m,\u001b[0m \u001b[0;34m\"config_proto\"\u001b[0m\u001b[0;34m,\u001b[0m \u001b[0mconfig\u001b[0m\u001b[0;34m)\u001b[0m\u001b[0;34m,\u001b[0m\u001b[0;34m\u001b[0m\u001b[0;34m\u001b[0m\u001b[0m\n\u001b[0;32m--> 511\u001b[0;31m               ctx=ctx)\n\u001b[0m\u001b[1;32m    512\u001b[0m         \u001b[0;32melse\u001b[0m\u001b[0;34m:\u001b[0m\u001b[0;34m\u001b[0m\u001b[0;34m\u001b[0m\u001b[0m\n\u001b[1;32m    513\u001b[0m           outputs = execute.execute_with_cancellation(\n",
      "\u001b[0;32m~/miniconda3/envs/pdiot/lib/python3.7/site-packages/tensorflow_core/python/eager/execute.py\u001b[0m in \u001b[0;36mquick_execute\u001b[0;34m(op_name, num_outputs, inputs, attrs, ctx, name)\u001b[0m\n\u001b[1;32m     59\u001b[0m     tensors = pywrap_tensorflow.TFE_Py_Execute(ctx._handle, device_name,\n\u001b[1;32m     60\u001b[0m                                                \u001b[0mop_name\u001b[0m\u001b[0;34m,\u001b[0m \u001b[0minputs\u001b[0m\u001b[0;34m,\u001b[0m \u001b[0mattrs\u001b[0m\u001b[0;34m,\u001b[0m\u001b[0;34m\u001b[0m\u001b[0;34m\u001b[0m\u001b[0m\n\u001b[0;32m---> 61\u001b[0;31m                                                num_outputs)\n\u001b[0m\u001b[1;32m     62\u001b[0m   \u001b[0;32mexcept\u001b[0m \u001b[0mcore\u001b[0m\u001b[0;34m.\u001b[0m\u001b[0m_NotOkStatusException\u001b[0m \u001b[0;32mas\u001b[0m \u001b[0me\u001b[0m\u001b[0;34m:\u001b[0m\u001b[0;34m\u001b[0m\u001b[0;34m\u001b[0m\u001b[0m\n\u001b[1;32m     63\u001b[0m     \u001b[0;32mif\u001b[0m \u001b[0mname\u001b[0m \u001b[0;32mis\u001b[0m \u001b[0;32mnot\u001b[0m \u001b[0;32mNone\u001b[0m\u001b[0;34m:\u001b[0m\u001b[0;34m\u001b[0m\u001b[0;34m\u001b[0m\u001b[0m\n",
      "\u001b[0;31mKeyboardInterrupt\u001b[0m: "
     ]
    }
   ],
   "source": [
    "model.fit(X_train, y_train,\n",
    "        batch_size=4048, epochs=200, callbacks=[callback],\n",
    "        validation_data=(X_test, y_test),\n",
    ")\n"
   ]
  },
  {
   "cell_type": "code",
   "execution_count": null,
   "metadata": {},
   "outputs": [],
   "source": []
  },
  {
   "cell_type": "markdown",
   "metadata": {},
   "source": [
    "We can now view the accuracy of our model on the test dataset."
   ]
  },
  {
   "cell_type": "code",
   "execution_count": 144,
   "metadata": {},
   "outputs": [
    {
     "name": "stdout",
     "output_type": "stream",
     "text": [
      "[13 13 13 ... 14 14 13]\n"
     ]
    }
   ],
   "source": [
    "# stats\n",
    "y_pred_ohe = model.predict(X_test)\n",
    "y_pred_labels = np.argmax(y_pred_ohe, axis=1)\n",
    "y_true_labels = np.argmax(y_test, axis=1)\n",
    "print(y_pred_labels)"
   ]
  },
  {
   "cell_type": "code",
   "execution_count": 145,
   "metadata": {
    "scrolled": true
   },
   "outputs": [
    {
     "name": "stdout",
     "output_type": "stream",
     "text": [
      "********************************************************************************\n",
      "Classification report\n",
      "********************************************************************************\n",
      "              precision    recall  f1-score   support\n",
      "\n",
      "           0       0.45      0.54      0.49       277\n",
      "           1       0.55      0.59      0.57       274\n",
      "           2       0.49      0.34      0.40       304\n",
      "           3       0.94      1.00      0.97        29\n",
      "           4       0.90      0.60      0.72        30\n",
      "           5       0.56      0.17      0.26        29\n",
      "           6       1.00      0.73      0.85        30\n",
      "           7       0.93      0.81      0.86       303\n",
      "           8       0.94      0.97      0.96       303\n",
      "           9       0.88      0.94      0.91       301\n",
      "          10       0.77      0.93      0.84       303\n",
      "          11       0.58      0.52      0.55       304\n",
      "          12       0.96      0.95      0.96       272\n",
      "          13       0.29      0.29      0.29       301\n",
      "          14       0.79      0.72      0.75       301\n",
      "          15       0.79      0.57      0.66       302\n",
      "          16       0.38      0.57      0.46       304\n",
      "          17       0.50      0.49      0.50       273\n",
      "\n",
      "    accuracy                           0.66      4240\n",
      "   macro avg       0.70      0.65      0.67      4240\n",
      "weighted avg       0.67      0.66      0.66      4240\n",
      "\n"
     ]
    }
   ],
   "source": [
    "print(\"*\" * 80)\n",
    "print(\"Classification report\")\n",
    "print(\"*\" * 80)\n",
    "print(classification_report(y_true_labels, y_pred_labels))"
   ]
  },
  {
   "cell_type": "markdown",
   "metadata": {},
   "source": [
    "## Conclusion"
   ]
  },
  {
   "cell_type": "markdown",
   "metadata": {},
   "source": [
    "You are now ready to start developing your own models for HAR. There are numerous tutorials online which you can follow to build models like LSTMs, CNNs, RFCs and many others. \n",
    "\n",
    "You have a wide choice of ways to solve this classification model. Here are a few things to think about:\n",
    "\n",
    "* What type of preprocessing do you want to apply to your data? Examples include:\n",
    "    * smoothing the sensor axes\n",
    "    * performing axis fusion\n",
    "    * extracting scalograms from the signal\n",
    "    * manually extracting features from the signal\n",
    "    * choosing to leave out certain axes\n",
    "\n",
    "* What type of model do you want to train?\n",
    "    * simple ML model\n",
    "    * deep learning model\n",
    "    \n",
    "* Do you want a hierarchical model or a flat model?\n",
    "    * hierarchical models means you don't have to train the same type of model for each activity\n",
    "    * a flat model might be faster to train and apply in real time"
   ]
  },
  {
   "cell_type": "markdown",
   "metadata": {},
   "source": [
    "## Save Model"
   ]
  },
  {
   "cell_type": "code",
   "execution_count": 146,
   "metadata": {},
   "outputs": [],
   "source": [
    "models_directory = './models/'\n",
    "current_model_path = models_directory + 'CNN_model_HAR_v2/'\n",
    "\n",
    "# tflite_model_filename = 'CNN_HAR_v1.tflite'#default features | Note: split randomly (around 40%)\n",
    "# tflite_model_filename = 'CNN_HAR_v2.tflite' #default features + added dropout| Note: split by subject id, but sliding windows were grouped by activity_code (not good, mixed results)\n"
   ]
  },
  {
   "cell_type": "code",
   "execution_count": 147,
   "metadata": {},
   "outputs": [
    {
     "name": "stdout",
     "output_type": "stream",
     "text": [
      "WARNING:tensorflow:From /Users/Wassim/miniconda3/envs/pdiot/lib/python3.7/site-packages/tensorflow_core/python/ops/resource_variable_ops.py:1781: calling BaseResourceVariable.__init__ (from tensorflow.python.ops.resource_variable_ops) with constraint is deprecated and will be removed in a future version.\n",
      "Instructions for updating:\n",
      "If using Keras pass *_constraint arguments to layers.\n"
     ]
    },
    {
     "name": "stderr",
     "output_type": "stream",
     "text": [
      "WARNING:tensorflow:From /Users/Wassim/miniconda3/envs/pdiot/lib/python3.7/site-packages/tensorflow_core/python/ops/resource_variable_ops.py:1781: calling BaseResourceVariable.__init__ (from tensorflow.python.ops.resource_variable_ops) with constraint is deprecated and will be removed in a future version.\n",
      "Instructions for updating:\n",
      "If using Keras pass *_constraint arguments to layers.\n"
     ]
    },
    {
     "name": "stdout",
     "output_type": "stream",
     "text": [
      "INFO:tensorflow:Assets written to: ./models/CNN_model_HAR_v2/assets\n"
     ]
    },
    {
     "name": "stderr",
     "output_type": "stream",
     "text": [
      "INFO:tensorflow:Assets written to: ./models/CNN_model_HAR_v2/assets\n"
     ]
    }
   ],
   "source": [
    "#Save original model first. We will use the SavedModel to convert it to TFLite as recommended by the Tensorflow documentation.\n",
    "tf.saved_model.save(model, current_model_path)"
   ]
  },
  {
   "cell_type": "markdown",
   "metadata": {},
   "source": [
    "## Convert SavedModel to TFLite"
   ]
  },
  {
   "cell_type": "code",
   "execution_count": 148,
   "metadata": {},
   "outputs": [],
   "source": [
    "# Convert the model\n",
    "converter = tf.lite.TFLiteConverter.from_saved_model(current_model_path) # path to the SavedModel directory\n",
    "tflite_model = converter.convert()\n",
    "# Save the model.\n",
    "with open(current_model_path+tflite_model_filename, 'wb') as f:\n",
    "    f.write(tflite_model)"
   ]
  },
  {
   "cell_type": "markdown",
   "metadata": {},
   "source": [
    "## Quick Test on Python - Tensorflow Lite\n",
    "\n",
    "\n"
   ]
  },
  {
   "cell_type": "code",
   "execution_count": 505,
   "metadata": {},
   "outputs": [
    {
     "name": "stdout",
     "output_type": "stream",
     "text": [
      "Input Shape\n",
      "[ 1 50  6]\n",
      "See Test Shape\n",
      "(1, 50, 6)\n",
      "Current output results\n",
      "[6.2270577e-05 2.4624990e-06 1.5130171e-01 3.9093671e-04 5.0324547e-06\n",
      " 7.4569823e-04 3.8591963e-05 1.3974484e-03 2.7534372e-06 2.3628731e-07\n",
      " 1.2048521e-04 8.6326441e-03 9.0560906e-07 2.8892693e-01 3.9909825e-02\n",
      " 4.7166407e-01 3.6739558e-02 5.8311980e-05]\n",
      "18\n",
      "Which is the most confident?\n",
      "15\n"
     ]
    }
   ],
   "source": [
    "# Load TFLite model and allocate tensors.\n",
    "interpreter = tf.lite.Interpreter(model_path=current_model_path+tflite_model_filename)\n",
    "interpreter.allocate_tensors()\n",
    "\n",
    "# Get input and output tensors.\n",
    "input_details = interpreter.get_input_details()\n",
    "output_details = interpreter.get_output_details()\n",
    "\n",
    "# Test model on random input data.\n",
    "input_shape = input_details[0]['shape']\n",
    "print(\"Input Shape\")\n",
    "print(input_shape)\n",
    "test = X_test.astype(np.float32)\n",
    "#Test data to feed as parameter\n",
    "test_part = test[2:3]\n",
    "print(\"See Test Shape\")\n",
    "print(test_part.shape)\n",
    "\n",
    "interpreter.set_tensor(input_details[0]['index'], test_part)\n",
    "\n",
    "interpreter.invoke()\n",
    "output_data = interpreter.get_tensor(output_details[0]['index'])\n",
    "output_results = np.squeeze(output_data)\n",
    "\n",
    "print(\"Current output results\")\n",
    "print(output_results)\n",
    "print(len(output_results))\n",
    "\n",
    "print(\"Which is the most confident?\")\n",
    "max_index = np.argmax(output_results, axis=0)\n",
    "\n",
    "print(max_index)\n",
    "\n"
   ]
  },
  {
   "cell_type": "code",
   "execution_count": null,
   "metadata": {},
   "outputs": [],
   "source": []
  }
 ],
 "metadata": {
  "kernelspec": {
   "display_name": "Python 3",
   "language": "python",
   "name": "python3"
  },
  "language_info": {
   "codemirror_mode": {
    "name": "ipython",
    "version": 3
   },
   "file_extension": ".py",
   "mimetype": "text/x-python",
   "name": "python",
   "nbconvert_exporter": "python",
   "pygments_lexer": "ipython3",
   "version": "3.7.11"
  }
 },
 "nbformat": 4,
 "nbformat_minor": 1
}
